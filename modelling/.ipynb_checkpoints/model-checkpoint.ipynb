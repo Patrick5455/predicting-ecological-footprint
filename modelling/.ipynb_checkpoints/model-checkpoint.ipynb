{
 "cells": [
  {
   "cell_type": "markdown",
   "metadata": {},
   "source": [
    "> import libraries"
   ]
  },
  {
   "cell_type": "code",
   "execution_count": 246,
   "metadata": {},
   "outputs": [],
   "source": [
    "import pandas as pd\n",
    "import seaborn as sns\n",
    "import numpy as np\n",
    "import matplotlib.pyplot as plt\n",
    "from sklearn.metrics import recall_score, accuracy_score, precision_score, f1_score, confusion_matrix\n",
    "from sklearn import svm\n",
    "from sklearn.neighbors import KNeighborsClassifier\n",
    "from sklearn.model_selection import KFold, LeaveOneOut, StratifiedKFold\n",
    "from sklearn.linear_model import LogisticRegression\n",
    "from imblearn import over_sampling, under_sampling\n",
    "from imblearn.over_sampling import SMOTE\n",
    "from sklearn.preprocessing import StandardScaler, LabelEncoder\n",
    "from xgboost import XGBClassifier\n",
    "from sklearn.model_selection import train_test_split\n",
    "from sklearn.tree import DecisionTreeClassifier\n",
    "from sklearn.ensemble import RandomForestClassifier"
   ]
  },
  {
   "cell_type": "code",
   "execution_count": 79,
   "metadata": {},
   "outputs": [],
   "source": [
    "path = '../datasets/Data_for_UCI_named.csv'\n",
    "data = pd.read_csv(path)\n",
    "data.drop('stab', axis=1, inplace=True)"
   ]
  },
  {
   "cell_type": "code",
   "execution_count": 80,
   "metadata": {},
   "outputs": [
    {
     "data": {
      "text/html": [
       "<div>\n",
       "<style scoped>\n",
       "    .dataframe tbody tr th:only-of-type {\n",
       "        vertical-align: middle;\n",
       "    }\n",
       "\n",
       "    .dataframe tbody tr th {\n",
       "        vertical-align: top;\n",
       "    }\n",
       "\n",
       "    .dataframe thead th {\n",
       "        text-align: right;\n",
       "    }\n",
       "</style>\n",
       "<table border=\"1\" class=\"dataframe\">\n",
       "  <thead>\n",
       "    <tr style=\"text-align: right;\">\n",
       "      <th></th>\n",
       "      <th>tau1</th>\n",
       "      <th>tau2</th>\n",
       "      <th>tau3</th>\n",
       "      <th>tau4</th>\n",
       "      <th>p1</th>\n",
       "      <th>p2</th>\n",
       "      <th>p3</th>\n",
       "      <th>p4</th>\n",
       "      <th>g1</th>\n",
       "      <th>g2</th>\n",
       "      <th>g3</th>\n",
       "      <th>g4</th>\n",
       "      <th>stabf</th>\n",
       "    </tr>\n",
       "  </thead>\n",
       "  <tbody>\n",
       "    <tr>\n",
       "      <th>0</th>\n",
       "      <td>2.959060</td>\n",
       "      <td>3.079885</td>\n",
       "      <td>8.381025</td>\n",
       "      <td>9.780754</td>\n",
       "      <td>3.763085</td>\n",
       "      <td>-0.782604</td>\n",
       "      <td>-1.257395</td>\n",
       "      <td>-1.723086</td>\n",
       "      <td>0.650456</td>\n",
       "      <td>0.859578</td>\n",
       "      <td>0.887445</td>\n",
       "      <td>0.958034</td>\n",
       "      <td>unstable</td>\n",
       "    </tr>\n",
       "    <tr>\n",
       "      <th>1</th>\n",
       "      <td>9.304097</td>\n",
       "      <td>4.902524</td>\n",
       "      <td>3.047541</td>\n",
       "      <td>1.369357</td>\n",
       "      <td>5.067812</td>\n",
       "      <td>-1.940058</td>\n",
       "      <td>-1.872742</td>\n",
       "      <td>-1.255012</td>\n",
       "      <td>0.413441</td>\n",
       "      <td>0.862414</td>\n",
       "      <td>0.562139</td>\n",
       "      <td>0.781760</td>\n",
       "      <td>stable</td>\n",
       "    </tr>\n",
       "    <tr>\n",
       "      <th>2</th>\n",
       "      <td>8.971707</td>\n",
       "      <td>8.848428</td>\n",
       "      <td>3.046479</td>\n",
       "      <td>1.214518</td>\n",
       "      <td>3.405158</td>\n",
       "      <td>-1.207456</td>\n",
       "      <td>-1.277210</td>\n",
       "      <td>-0.920492</td>\n",
       "      <td>0.163041</td>\n",
       "      <td>0.766689</td>\n",
       "      <td>0.839444</td>\n",
       "      <td>0.109853</td>\n",
       "      <td>unstable</td>\n",
       "    </tr>\n",
       "    <tr>\n",
       "      <th>3</th>\n",
       "      <td>0.716415</td>\n",
       "      <td>7.669600</td>\n",
       "      <td>4.486641</td>\n",
       "      <td>2.340563</td>\n",
       "      <td>3.963791</td>\n",
       "      <td>-1.027473</td>\n",
       "      <td>-1.938944</td>\n",
       "      <td>-0.997374</td>\n",
       "      <td>0.446209</td>\n",
       "      <td>0.976744</td>\n",
       "      <td>0.929381</td>\n",
       "      <td>0.362718</td>\n",
       "      <td>unstable</td>\n",
       "    </tr>\n",
       "    <tr>\n",
       "      <th>4</th>\n",
       "      <td>3.134112</td>\n",
       "      <td>7.608772</td>\n",
       "      <td>4.943759</td>\n",
       "      <td>9.857573</td>\n",
       "      <td>3.525811</td>\n",
       "      <td>-1.125531</td>\n",
       "      <td>-1.845975</td>\n",
       "      <td>-0.554305</td>\n",
       "      <td>0.797110</td>\n",
       "      <td>0.455450</td>\n",
       "      <td>0.656947</td>\n",
       "      <td>0.820923</td>\n",
       "      <td>unstable</td>\n",
       "    </tr>\n",
       "    <tr>\n",
       "      <th>...</th>\n",
       "      <td>...</td>\n",
       "      <td>...</td>\n",
       "      <td>...</td>\n",
       "      <td>...</td>\n",
       "      <td>...</td>\n",
       "      <td>...</td>\n",
       "      <td>...</td>\n",
       "      <td>...</td>\n",
       "      <td>...</td>\n",
       "      <td>...</td>\n",
       "      <td>...</td>\n",
       "      <td>...</td>\n",
       "      <td>...</td>\n",
       "    </tr>\n",
       "    <tr>\n",
       "      <th>9995</th>\n",
       "      <td>2.930406</td>\n",
       "      <td>9.487627</td>\n",
       "      <td>2.376523</td>\n",
       "      <td>6.187797</td>\n",
       "      <td>3.343416</td>\n",
       "      <td>-0.658054</td>\n",
       "      <td>-1.449106</td>\n",
       "      <td>-1.236256</td>\n",
       "      <td>0.601709</td>\n",
       "      <td>0.779642</td>\n",
       "      <td>0.813512</td>\n",
       "      <td>0.608385</td>\n",
       "      <td>unstable</td>\n",
       "    </tr>\n",
       "    <tr>\n",
       "      <th>9996</th>\n",
       "      <td>3.392299</td>\n",
       "      <td>1.274827</td>\n",
       "      <td>2.954947</td>\n",
       "      <td>6.894759</td>\n",
       "      <td>4.349512</td>\n",
       "      <td>-1.663661</td>\n",
       "      <td>-0.952437</td>\n",
       "      <td>-1.733414</td>\n",
       "      <td>0.502079</td>\n",
       "      <td>0.567242</td>\n",
       "      <td>0.285880</td>\n",
       "      <td>0.366120</td>\n",
       "      <td>stable</td>\n",
       "    </tr>\n",
       "    <tr>\n",
       "      <th>9997</th>\n",
       "      <td>2.364034</td>\n",
       "      <td>2.842030</td>\n",
       "      <td>8.776391</td>\n",
       "      <td>1.008906</td>\n",
       "      <td>4.299976</td>\n",
       "      <td>-1.380719</td>\n",
       "      <td>-0.943884</td>\n",
       "      <td>-1.975373</td>\n",
       "      <td>0.487838</td>\n",
       "      <td>0.986505</td>\n",
       "      <td>0.149286</td>\n",
       "      <td>0.145984</td>\n",
       "      <td>stable</td>\n",
       "    </tr>\n",
       "    <tr>\n",
       "      <th>9998</th>\n",
       "      <td>9.631511</td>\n",
       "      <td>3.994398</td>\n",
       "      <td>2.757071</td>\n",
       "      <td>7.821347</td>\n",
       "      <td>2.514755</td>\n",
       "      <td>-0.966330</td>\n",
       "      <td>-0.649915</td>\n",
       "      <td>-0.898510</td>\n",
       "      <td>0.365246</td>\n",
       "      <td>0.587558</td>\n",
       "      <td>0.889118</td>\n",
       "      <td>0.818391</td>\n",
       "      <td>unstable</td>\n",
       "    </tr>\n",
       "    <tr>\n",
       "      <th>9999</th>\n",
       "      <td>6.530527</td>\n",
       "      <td>6.781790</td>\n",
       "      <td>4.349695</td>\n",
       "      <td>8.673138</td>\n",
       "      <td>3.492807</td>\n",
       "      <td>-1.390285</td>\n",
       "      <td>-1.532193</td>\n",
       "      <td>-0.570329</td>\n",
       "      <td>0.073056</td>\n",
       "      <td>0.505441</td>\n",
       "      <td>0.378761</td>\n",
       "      <td>0.942631</td>\n",
       "      <td>unstable</td>\n",
       "    </tr>\n",
       "  </tbody>\n",
       "</table>\n",
       "<p>10000 rows × 13 columns</p>\n",
       "</div>"
      ],
      "text/plain": [
       "          tau1      tau2      tau3      tau4        p1        p2        p3  \\\n",
       "0     2.959060  3.079885  8.381025  9.780754  3.763085 -0.782604 -1.257395   \n",
       "1     9.304097  4.902524  3.047541  1.369357  5.067812 -1.940058 -1.872742   \n",
       "2     8.971707  8.848428  3.046479  1.214518  3.405158 -1.207456 -1.277210   \n",
       "3     0.716415  7.669600  4.486641  2.340563  3.963791 -1.027473 -1.938944   \n",
       "4     3.134112  7.608772  4.943759  9.857573  3.525811 -1.125531 -1.845975   \n",
       "...        ...       ...       ...       ...       ...       ...       ...   \n",
       "9995  2.930406  9.487627  2.376523  6.187797  3.343416 -0.658054 -1.449106   \n",
       "9996  3.392299  1.274827  2.954947  6.894759  4.349512 -1.663661 -0.952437   \n",
       "9997  2.364034  2.842030  8.776391  1.008906  4.299976 -1.380719 -0.943884   \n",
       "9998  9.631511  3.994398  2.757071  7.821347  2.514755 -0.966330 -0.649915   \n",
       "9999  6.530527  6.781790  4.349695  8.673138  3.492807 -1.390285 -1.532193   \n",
       "\n",
       "            p4        g1        g2        g3        g4     stabf  \n",
       "0    -1.723086  0.650456  0.859578  0.887445  0.958034  unstable  \n",
       "1    -1.255012  0.413441  0.862414  0.562139  0.781760    stable  \n",
       "2    -0.920492  0.163041  0.766689  0.839444  0.109853  unstable  \n",
       "3    -0.997374  0.446209  0.976744  0.929381  0.362718  unstable  \n",
       "4    -0.554305  0.797110  0.455450  0.656947  0.820923  unstable  \n",
       "...        ...       ...       ...       ...       ...       ...  \n",
       "9995 -1.236256  0.601709  0.779642  0.813512  0.608385  unstable  \n",
       "9996 -1.733414  0.502079  0.567242  0.285880  0.366120    stable  \n",
       "9997 -1.975373  0.487838  0.986505  0.149286  0.145984    stable  \n",
       "9998 -0.898510  0.365246  0.587558  0.889118  0.818391  unstable  \n",
       "9999 -0.570329  0.073056  0.505441  0.378761  0.942631  unstable  \n",
       "\n",
       "[10000 rows x 13 columns]"
      ]
     },
     "execution_count": 80,
     "metadata": {},
     "output_type": "execute_result"
    }
   ],
   "source": [
    "data"
   ]
  },
  {
   "cell_type": "code",
   "execution_count": 81,
   "metadata": {},
   "outputs": [
    {
     "name": "stdout",
     "output_type": "stream",
     "text": [
      "<class 'pandas.core.frame.DataFrame'>\n",
      "RangeIndex: 10000 entries, 0 to 9999\n",
      "Data columns (total 13 columns):\n",
      " #   Column  Non-Null Count  Dtype  \n",
      "---  ------  --------------  -----  \n",
      " 0   tau1    10000 non-null  float64\n",
      " 1   tau2    10000 non-null  float64\n",
      " 2   tau3    10000 non-null  float64\n",
      " 3   tau4    10000 non-null  float64\n",
      " 4   p1      10000 non-null  float64\n",
      " 5   p2      10000 non-null  float64\n",
      " 6   p3      10000 non-null  float64\n",
      " 7   p4      10000 non-null  float64\n",
      " 8   g1      10000 non-null  float64\n",
      " 9   g2      10000 non-null  float64\n",
      " 10  g3      10000 non-null  float64\n",
      " 11  g4      10000 non-null  float64\n",
      " 12  stabf   10000 non-null  object \n",
      "dtypes: float64(12), object(1)\n",
      "memory usage: 1015.8+ KB\n"
     ]
    }
   ],
   "source": [
    "data.info()"
   ]
  },
  {
   "cell_type": "markdown",
   "metadata": {},
   "source": [
    "> no null and missing vlaues"
   ]
  },
  {
   "cell_type": "markdown",
   "metadata": {},
   "source": [
    "check for outliers"
   ]
  },
  {
   "cell_type": "code",
   "execution_count": 82,
   "metadata": {},
   "outputs": [],
   "source": [
    "def detect_outlier(data, columns):\n",
    "    for col in columns:\n",
    "        Q1 = data[col].quantile(0.25)\n",
    "        Q3 = data[col].quantile(0.75)\n",
    "        IQR = Q3 - Q1\n",
    "        print(col, \"--outlier->\",((data[col] < (Q1 - 1.5 * IQR)) |(data[col] > (Q3 + 1.5 * IQR))).any())"
   ]
  },
  {
   "cell_type": "code",
   "execution_count": 83,
   "metadata": {},
   "outputs": [],
   "source": [
    "num_data = data.select_dtypes(exclude='object')"
   ]
  },
  {
   "cell_type": "code",
   "execution_count": 84,
   "metadata": {},
   "outputs": [
    {
     "data": {
      "text/html": [
       "<div>\n",
       "<style scoped>\n",
       "    .dataframe tbody tr th:only-of-type {\n",
       "        vertical-align: middle;\n",
       "    }\n",
       "\n",
       "    .dataframe tbody tr th {\n",
       "        vertical-align: top;\n",
       "    }\n",
       "\n",
       "    .dataframe thead th {\n",
       "        text-align: right;\n",
       "    }\n",
       "</style>\n",
       "<table border=\"1\" class=\"dataframe\">\n",
       "  <thead>\n",
       "    <tr style=\"text-align: right;\">\n",
       "      <th></th>\n",
       "      <th>tau1</th>\n",
       "      <th>tau2</th>\n",
       "      <th>tau3</th>\n",
       "      <th>tau4</th>\n",
       "      <th>p1</th>\n",
       "      <th>p2</th>\n",
       "      <th>p3</th>\n",
       "      <th>p4</th>\n",
       "      <th>g1</th>\n",
       "      <th>g2</th>\n",
       "      <th>g3</th>\n",
       "      <th>g4</th>\n",
       "    </tr>\n",
       "  </thead>\n",
       "  <tbody>\n",
       "    <tr>\n",
       "      <th>0</th>\n",
       "      <td>2.959060</td>\n",
       "      <td>3.079885</td>\n",
       "      <td>8.381025</td>\n",
       "      <td>9.780754</td>\n",
       "      <td>3.763085</td>\n",
       "      <td>-0.782604</td>\n",
       "      <td>-1.257395</td>\n",
       "      <td>-1.723086</td>\n",
       "      <td>0.650456</td>\n",
       "      <td>0.859578</td>\n",
       "      <td>0.887445</td>\n",
       "      <td>0.958034</td>\n",
       "    </tr>\n",
       "    <tr>\n",
       "      <th>1</th>\n",
       "      <td>9.304097</td>\n",
       "      <td>4.902524</td>\n",
       "      <td>3.047541</td>\n",
       "      <td>1.369357</td>\n",
       "      <td>5.067812</td>\n",
       "      <td>-1.940058</td>\n",
       "      <td>-1.872742</td>\n",
       "      <td>-1.255012</td>\n",
       "      <td>0.413441</td>\n",
       "      <td>0.862414</td>\n",
       "      <td>0.562139</td>\n",
       "      <td>0.781760</td>\n",
       "    </tr>\n",
       "    <tr>\n",
       "      <th>2</th>\n",
       "      <td>8.971707</td>\n",
       "      <td>8.848428</td>\n",
       "      <td>3.046479</td>\n",
       "      <td>1.214518</td>\n",
       "      <td>3.405158</td>\n",
       "      <td>-1.207456</td>\n",
       "      <td>-1.277210</td>\n",
       "      <td>-0.920492</td>\n",
       "      <td>0.163041</td>\n",
       "      <td>0.766689</td>\n",
       "      <td>0.839444</td>\n",
       "      <td>0.109853</td>\n",
       "    </tr>\n",
       "    <tr>\n",
       "      <th>3</th>\n",
       "      <td>0.716415</td>\n",
       "      <td>7.669600</td>\n",
       "      <td>4.486641</td>\n",
       "      <td>2.340563</td>\n",
       "      <td>3.963791</td>\n",
       "      <td>-1.027473</td>\n",
       "      <td>-1.938944</td>\n",
       "      <td>-0.997374</td>\n",
       "      <td>0.446209</td>\n",
       "      <td>0.976744</td>\n",
       "      <td>0.929381</td>\n",
       "      <td>0.362718</td>\n",
       "    </tr>\n",
       "    <tr>\n",
       "      <th>4</th>\n",
       "      <td>3.134112</td>\n",
       "      <td>7.608772</td>\n",
       "      <td>4.943759</td>\n",
       "      <td>9.857573</td>\n",
       "      <td>3.525811</td>\n",
       "      <td>-1.125531</td>\n",
       "      <td>-1.845975</td>\n",
       "      <td>-0.554305</td>\n",
       "      <td>0.797110</td>\n",
       "      <td>0.455450</td>\n",
       "      <td>0.656947</td>\n",
       "      <td>0.820923</td>\n",
       "    </tr>\n",
       "    <tr>\n",
       "      <th>...</th>\n",
       "      <td>...</td>\n",
       "      <td>...</td>\n",
       "      <td>...</td>\n",
       "      <td>...</td>\n",
       "      <td>...</td>\n",
       "      <td>...</td>\n",
       "      <td>...</td>\n",
       "      <td>...</td>\n",
       "      <td>...</td>\n",
       "      <td>...</td>\n",
       "      <td>...</td>\n",
       "      <td>...</td>\n",
       "    </tr>\n",
       "    <tr>\n",
       "      <th>9995</th>\n",
       "      <td>2.930406</td>\n",
       "      <td>9.487627</td>\n",
       "      <td>2.376523</td>\n",
       "      <td>6.187797</td>\n",
       "      <td>3.343416</td>\n",
       "      <td>-0.658054</td>\n",
       "      <td>-1.449106</td>\n",
       "      <td>-1.236256</td>\n",
       "      <td>0.601709</td>\n",
       "      <td>0.779642</td>\n",
       "      <td>0.813512</td>\n",
       "      <td>0.608385</td>\n",
       "    </tr>\n",
       "    <tr>\n",
       "      <th>9996</th>\n",
       "      <td>3.392299</td>\n",
       "      <td>1.274827</td>\n",
       "      <td>2.954947</td>\n",
       "      <td>6.894759</td>\n",
       "      <td>4.349512</td>\n",
       "      <td>-1.663661</td>\n",
       "      <td>-0.952437</td>\n",
       "      <td>-1.733414</td>\n",
       "      <td>0.502079</td>\n",
       "      <td>0.567242</td>\n",
       "      <td>0.285880</td>\n",
       "      <td>0.366120</td>\n",
       "    </tr>\n",
       "    <tr>\n",
       "      <th>9997</th>\n",
       "      <td>2.364034</td>\n",
       "      <td>2.842030</td>\n",
       "      <td>8.776391</td>\n",
       "      <td>1.008906</td>\n",
       "      <td>4.299976</td>\n",
       "      <td>-1.380719</td>\n",
       "      <td>-0.943884</td>\n",
       "      <td>-1.975373</td>\n",
       "      <td>0.487838</td>\n",
       "      <td>0.986505</td>\n",
       "      <td>0.149286</td>\n",
       "      <td>0.145984</td>\n",
       "    </tr>\n",
       "    <tr>\n",
       "      <th>9998</th>\n",
       "      <td>9.631511</td>\n",
       "      <td>3.994398</td>\n",
       "      <td>2.757071</td>\n",
       "      <td>7.821347</td>\n",
       "      <td>2.514755</td>\n",
       "      <td>-0.966330</td>\n",
       "      <td>-0.649915</td>\n",
       "      <td>-0.898510</td>\n",
       "      <td>0.365246</td>\n",
       "      <td>0.587558</td>\n",
       "      <td>0.889118</td>\n",
       "      <td>0.818391</td>\n",
       "    </tr>\n",
       "    <tr>\n",
       "      <th>9999</th>\n",
       "      <td>6.530527</td>\n",
       "      <td>6.781790</td>\n",
       "      <td>4.349695</td>\n",
       "      <td>8.673138</td>\n",
       "      <td>3.492807</td>\n",
       "      <td>-1.390285</td>\n",
       "      <td>-1.532193</td>\n",
       "      <td>-0.570329</td>\n",
       "      <td>0.073056</td>\n",
       "      <td>0.505441</td>\n",
       "      <td>0.378761</td>\n",
       "      <td>0.942631</td>\n",
       "    </tr>\n",
       "  </tbody>\n",
       "</table>\n",
       "<p>10000 rows × 12 columns</p>\n",
       "</div>"
      ],
      "text/plain": [
       "          tau1      tau2      tau3      tau4        p1        p2        p3  \\\n",
       "0     2.959060  3.079885  8.381025  9.780754  3.763085 -0.782604 -1.257395   \n",
       "1     9.304097  4.902524  3.047541  1.369357  5.067812 -1.940058 -1.872742   \n",
       "2     8.971707  8.848428  3.046479  1.214518  3.405158 -1.207456 -1.277210   \n",
       "3     0.716415  7.669600  4.486641  2.340563  3.963791 -1.027473 -1.938944   \n",
       "4     3.134112  7.608772  4.943759  9.857573  3.525811 -1.125531 -1.845975   \n",
       "...        ...       ...       ...       ...       ...       ...       ...   \n",
       "9995  2.930406  9.487627  2.376523  6.187797  3.343416 -0.658054 -1.449106   \n",
       "9996  3.392299  1.274827  2.954947  6.894759  4.349512 -1.663661 -0.952437   \n",
       "9997  2.364034  2.842030  8.776391  1.008906  4.299976 -1.380719 -0.943884   \n",
       "9998  9.631511  3.994398  2.757071  7.821347  2.514755 -0.966330 -0.649915   \n",
       "9999  6.530527  6.781790  4.349695  8.673138  3.492807 -1.390285 -1.532193   \n",
       "\n",
       "            p4        g1        g2        g3        g4  \n",
       "0    -1.723086  0.650456  0.859578  0.887445  0.958034  \n",
       "1    -1.255012  0.413441  0.862414  0.562139  0.781760  \n",
       "2    -0.920492  0.163041  0.766689  0.839444  0.109853  \n",
       "3    -0.997374  0.446209  0.976744  0.929381  0.362718  \n",
       "4    -0.554305  0.797110  0.455450  0.656947  0.820923  \n",
       "...        ...       ...       ...       ...       ...  \n",
       "9995 -1.236256  0.601709  0.779642  0.813512  0.608385  \n",
       "9996 -1.733414  0.502079  0.567242  0.285880  0.366120  \n",
       "9997 -1.975373  0.487838  0.986505  0.149286  0.145984  \n",
       "9998 -0.898510  0.365246  0.587558  0.889118  0.818391  \n",
       "9999 -0.570329  0.073056  0.505441  0.378761  0.942631  \n",
       "\n",
       "[10000 rows x 12 columns]"
      ]
     },
     "execution_count": 84,
     "metadata": {},
     "output_type": "execute_result"
    }
   ],
   "source": [
    "num_data"
   ]
  },
  {
   "cell_type": "code",
   "execution_count": 85,
   "metadata": {},
   "outputs": [
    {
     "name": "stdout",
     "output_type": "stream",
     "text": [
      "tau1 --outlier-> False\n",
      "tau2 --outlier-> False\n",
      "tau3 --outlier-> False\n",
      "tau4 --outlier-> False\n",
      "p1 --outlier-> True\n",
      "p2 --outlier-> False\n",
      "p3 --outlier-> False\n",
      "p4 --outlier-> False\n",
      "g1 --outlier-> False\n",
      "g2 --outlier-> False\n",
      "g3 --outlier-> False\n",
      "g4 --outlier-> False\n"
     ]
    }
   ],
   "source": [
    "detect_outlier(num_data, columns=num_data.columns.to_list())"
   ]
  },
  {
   "cell_type": "markdown",
   "metadata": {},
   "source": [
    "> treat outlier columns by median replacement"
   ]
  },
  {
   "cell_type": "code",
   "execution_count": 86,
   "metadata": {},
   "outputs": [
    {
     "name": "stdout",
     "output_type": "stream",
     "text": [
      "3.751025437294685 4.9887398848437625 2.501846406280956\n"
     ]
    }
   ],
   "source": [
    "median = data['p1'].quantile(0.50)\n",
    "q95   =  data['p1'].quantile(0.95)\n",
    "q5  =  data['p1'].quantile(0.05)\n",
    "\n",
    "print(median, q95, q5)"
   ]
  },
  {
   "cell_type": "code",
   "execution_count": 87,
   "metadata": {},
   "outputs": [
    {
     "data": {
      "text/plain": [
       "0       False\n",
       "1        True\n",
       "2       False\n",
       "3       False\n",
       "4       False\n",
       "        ...  \n",
       "9995    False\n",
       "9996    False\n",
       "9997    False\n",
       "9998    False\n",
       "9999    False\n",
       "Name: p1, Length: 10000, dtype: bool"
      ]
     },
     "execution_count": 87,
     "metadata": {},
     "output_type": "execute_result"
    }
   ],
   "source": [
    "data['p1'] > q95"
   ]
  },
  {
   "cell_type": "code",
   "execution_count": 88,
   "metadata": {},
   "outputs": [],
   "source": [
    "data.p1 = np.where(data['p1'] > q95, median, data['p1'])"
   ]
  },
  {
   "cell_type": "code",
   "execution_count": 89,
   "metadata": {},
   "outputs": [],
   "source": [
    "data.p1 = np.where(data['p1'] < q5, median, data['p1'])"
   ]
  },
  {
   "cell_type": "markdown",
   "metadata": {},
   "source": [
    "check again"
   ]
  },
  {
   "cell_type": "code",
   "execution_count": 90,
   "metadata": {},
   "outputs": [
    {
     "name": "stdout",
     "output_type": "stream",
     "text": [
      "tau1 --outlier-> False\n",
      "tau2 --outlier-> False\n",
      "tau3 --outlier-> False\n",
      "tau4 --outlier-> False\n",
      "p1 --outlier-> False\n",
      "p2 --outlier-> False\n",
      "p3 --outlier-> False\n",
      "p4 --outlier-> False\n",
      "g1 --outlier-> False\n",
      "g2 --outlier-> False\n",
      "g3 --outlier-> False\n",
      "g4 --outlier-> False\n"
     ]
    }
   ],
   "source": [
    "num_data = data.select_dtypes(exclude='object')\n",
    "detect_outlier(num_data, columns=num_data.columns.to_list())"
   ]
  },
  {
   "cell_type": "markdown",
   "metadata": {},
   "source": [
    "check for imbalance in dataset"
   ]
  },
  {
   "cell_type": "code",
   "execution_count": 104,
   "metadata": {},
   "outputs": [
    {
     "data": {
      "text/plain": [
       "unstable    6380\n",
       "stable      3620\n",
       "Name: stabf, dtype: int64"
      ]
     },
     "execution_count": 104,
     "metadata": {},
     "output_type": "execute_result"
    }
   ],
   "source": [
    "data.stabf.value_counts()"
   ]
  },
  {
   "cell_type": "code",
   "execution_count": null,
   "metadata": {},
   "outputs": [],
   "source": []
  },
  {
   "cell_type": "code",
   "execution_count": 119,
   "metadata": {},
   "outputs": [],
   "source": [
    "unstable_n = data.stabf.value_counts()[0]\n",
    "stable_n = data.stabf.value_counts()[1]"
   ]
  },
  {
   "cell_type": "code",
   "execution_count": 131,
   "metadata": {},
   "outputs": [
    {
     "data": {
      "text/plain": [
       "10000"
      ]
     },
     "execution_count": 131,
     "metadata": {},
     "output_type": "execute_result"
    }
   ],
   "source": [
    "imb_check = pd.DataFrame(data.stabf.value_counts())\n",
    "imb_check.stabf"
   ]
  },
  {
   "cell_type": "markdown",
   "metadata": {},
   "source": [
    "check ratio of imbalance"
   ]
  },
  {
   "cell_type": "code",
   "execution_count": 134,
   "metadata": {},
   "outputs": [
    {
     "data": {
      "text/plain": [
       "10000"
      ]
     },
     "execution_count": 134,
     "metadata": {},
     "output_type": "execute_result"
    }
   ],
   "source": [
    "size = data.stabf.value_counts().sum()\n",
    "size"
   ]
  },
  {
   "cell_type": "code",
   "execution_count": 137,
   "metadata": {},
   "outputs": [
    {
     "data": {
      "text/plain": [
       "array([0.638, 0.362])"
      ]
     },
     "execution_count": 137,
     "metadata": {},
     "output_type": "execute_result"
    }
   ],
   "source": []
  },
  {
   "cell_type": "code",
   "execution_count": 140,
   "metadata": {},
   "outputs": [
    {
     "data": {
      "text/plain": [
       "0    0.638\n",
       "1    0.362\n",
       "dtype: float64"
      ]
     },
     "execution_count": 140,
     "metadata": {},
     "output_type": "execute_result"
    }
   ],
   "source": [
    "pd.Series(np.array([unstable_n/size, stable_n/size]))"
   ]
  },
  {
   "cell_type": "code",
   "execution_count": 142,
   "metadata": {},
   "outputs": [],
   "source": [
    "imb_check['ratio'] = np.array([unstable_n/size, stable_n/size])"
   ]
  },
  {
   "cell_type": "code",
   "execution_count": 143,
   "metadata": {},
   "outputs": [
    {
     "data": {
      "text/html": [
       "<div>\n",
       "<style scoped>\n",
       "    .dataframe tbody tr th:only-of-type {\n",
       "        vertical-align: middle;\n",
       "    }\n",
       "\n",
       "    .dataframe tbody tr th {\n",
       "        vertical-align: top;\n",
       "    }\n",
       "\n",
       "    .dataframe thead th {\n",
       "        text-align: right;\n",
       "    }\n",
       "</style>\n",
       "<table border=\"1\" class=\"dataframe\">\n",
       "  <thead>\n",
       "    <tr style=\"text-align: right;\">\n",
       "      <th></th>\n",
       "      <th>stabf</th>\n",
       "      <th>ratio</th>\n",
       "    </tr>\n",
       "  </thead>\n",
       "  <tbody>\n",
       "    <tr>\n",
       "      <th>unstable</th>\n",
       "      <td>6380</td>\n",
       "      <td>0.638</td>\n",
       "    </tr>\n",
       "    <tr>\n",
       "      <th>stable</th>\n",
       "      <td>3620</td>\n",
       "      <td>0.362</td>\n",
       "    </tr>\n",
       "  </tbody>\n",
       "</table>\n",
       "</div>"
      ],
      "text/plain": [
       "          stabf  ratio\n",
       "unstable   6380  0.638\n",
       "stable     3620  0.362"
      ]
     },
     "execution_count": 143,
     "metadata": {},
     "output_type": "execute_result"
    }
   ],
   "source": [
    "imb_check"
   ]
  },
  {
   "cell_type": "code",
   "execution_count": 171,
   "metadata": {},
   "outputs": [
    {
     "data": {
      "text/plain": [
       "<matplotlib.axes._subplots.AxesSubplot at 0x7fe1adf9bef0>"
      ]
     },
     "execution_count": 171,
     "metadata": {},
     "output_type": "execute_result"
    },
    {
     "data": {
      "image/png": "[encoded data removed]",
      "text/plain": [
       "<Figure size 720x576 with 1 Axes>"
      ]
     },
     "metadata": {
      "needs_background": "light"
     },
     "output_type": "display_data"
    }
   ],
   "source": [
    "imb_check.plot.bar(figsize=(10,8))"
   ]
  },
  {
   "cell_type": "markdown",
   "metadata": {},
   "source": [
    "we have approximately a ratio of 6:4 in the dataseet"
   ]
  },
  {
   "cell_type": "markdown",
   "metadata": {},
   "source": [
    "becuase our data is between 0 & 10,000; wwe would perform an oversampling of the imbalanced class"
   ]
  },
  {
   "cell_type": "markdown",
   "metadata": {},
   "source": [
    "#### but bdfore that, we would have to normalise the dataset using StandarScaler"
   ]
  },
  {
   "cell_type": "code",
   "execution_count": 154,
   "metadata": {},
   "outputs": [],
   "source": [
    "features = data.select_dtypes(exclude='object')\n",
    "target = data.select_dtypes(exclude='number')"
   ]
  },
  {
   "cell_type": "code",
   "execution_count": 155,
   "metadata": {},
   "outputs": [
    {
     "data": {
      "text/html": [
       "<div>\n",
       "<style scoped>\n",
       "    .dataframe tbody tr th:only-of-type {\n",
       "        vertical-align: middle;\n",
       "    }\n",
       "\n",
       "    .dataframe tbody tr th {\n",
       "        vertical-align: top;\n",
       "    }\n",
       "\n",
       "    .dataframe thead th {\n",
       "        text-align: right;\n",
       "    }\n",
       "</style>\n",
       "<table border=\"1\" class=\"dataframe\">\n",
       "  <thead>\n",
       "    <tr style=\"text-align: right;\">\n",
       "      <th></th>\n",
       "      <th>tau1</th>\n",
       "      <th>tau2</th>\n",
       "      <th>tau3</th>\n",
       "      <th>tau4</th>\n",
       "      <th>p1</th>\n",
       "      <th>p2</th>\n",
       "      <th>p3</th>\n",
       "      <th>p4</th>\n",
       "      <th>g1</th>\n",
       "      <th>g2</th>\n",
       "      <th>g3</th>\n",
       "      <th>g4</th>\n",
       "    </tr>\n",
       "  </thead>\n",
       "  <tbody>\n",
       "    <tr>\n",
       "      <th>0</th>\n",
       "      <td>2.959060</td>\n",
       "      <td>3.079885</td>\n",
       "      <td>8.381025</td>\n",
       "      <td>9.780754</td>\n",
       "      <td>3.763085</td>\n",
       "      <td>-0.782604</td>\n",
       "      <td>-1.257395</td>\n",
       "      <td>-1.723086</td>\n",
       "      <td>0.650456</td>\n",
       "      <td>0.859578</td>\n",
       "      <td>0.887445</td>\n",
       "      <td>0.958034</td>\n",
       "    </tr>\n",
       "    <tr>\n",
       "      <th>1</th>\n",
       "      <td>9.304097</td>\n",
       "      <td>4.902524</td>\n",
       "      <td>3.047541</td>\n",
       "      <td>1.369357</td>\n",
       "      <td>3.751025</td>\n",
       "      <td>-1.940058</td>\n",
       "      <td>-1.872742</td>\n",
       "      <td>-1.255012</td>\n",
       "      <td>0.413441</td>\n",
       "      <td>0.862414</td>\n",
       "      <td>0.562139</td>\n",
       "      <td>0.781760</td>\n",
       "    </tr>\n",
       "    <tr>\n",
       "      <th>2</th>\n",
       "      <td>8.971707</td>\n",
       "      <td>8.848428</td>\n",
       "      <td>3.046479</td>\n",
       "      <td>1.214518</td>\n",
       "      <td>3.405158</td>\n",
       "      <td>-1.207456</td>\n",
       "      <td>-1.277210</td>\n",
       "      <td>-0.920492</td>\n",
       "      <td>0.163041</td>\n",
       "      <td>0.766689</td>\n",
       "      <td>0.839444</td>\n",
       "      <td>0.109853</td>\n",
       "    </tr>\n",
       "    <tr>\n",
       "      <th>3</th>\n",
       "      <td>0.716415</td>\n",
       "      <td>7.669600</td>\n",
       "      <td>4.486641</td>\n",
       "      <td>2.340563</td>\n",
       "      <td>3.963791</td>\n",
       "      <td>-1.027473</td>\n",
       "      <td>-1.938944</td>\n",
       "      <td>-0.997374</td>\n",
       "      <td>0.446209</td>\n",
       "      <td>0.976744</td>\n",
       "      <td>0.929381</td>\n",
       "      <td>0.362718</td>\n",
       "    </tr>\n",
       "    <tr>\n",
       "      <th>4</th>\n",
       "      <td>3.134112</td>\n",
       "      <td>7.608772</td>\n",
       "      <td>4.943759</td>\n",
       "      <td>9.857573</td>\n",
       "      <td>3.525811</td>\n",
       "      <td>-1.125531</td>\n",
       "      <td>-1.845975</td>\n",
       "      <td>-0.554305</td>\n",
       "      <td>0.797110</td>\n",
       "      <td>0.455450</td>\n",
       "      <td>0.656947</td>\n",
       "      <td>0.820923</td>\n",
       "    </tr>\n",
       "    <tr>\n",
       "      <th>...</th>\n",
       "      <td>...</td>\n",
       "      <td>...</td>\n",
       "      <td>...</td>\n",
       "      <td>...</td>\n",
       "      <td>...</td>\n",
       "      <td>...</td>\n",
       "      <td>...</td>\n",
       "      <td>...</td>\n",
       "      <td>...</td>\n",
       "      <td>...</td>\n",
       "      <td>...</td>\n",
       "      <td>...</td>\n",
       "    </tr>\n",
       "    <tr>\n",
       "      <th>9995</th>\n",
       "      <td>2.930406</td>\n",
       "      <td>9.487627</td>\n",
       "      <td>2.376523</td>\n",
       "      <td>6.187797</td>\n",
       "      <td>3.343416</td>\n",
       "      <td>-0.658054</td>\n",
       "      <td>-1.449106</td>\n",
       "      <td>-1.236256</td>\n",
       "      <td>0.601709</td>\n",
       "      <td>0.779642</td>\n",
       "      <td>0.813512</td>\n",
       "      <td>0.608385</td>\n",
       "    </tr>\n",
       "    <tr>\n",
       "      <th>9996</th>\n",
       "      <td>3.392299</td>\n",
       "      <td>1.274827</td>\n",
       "      <td>2.954947</td>\n",
       "      <td>6.894759</td>\n",
       "      <td>4.349512</td>\n",
       "      <td>-1.663661</td>\n",
       "      <td>-0.952437</td>\n",
       "      <td>-1.733414</td>\n",
       "      <td>0.502079</td>\n",
       "      <td>0.567242</td>\n",
       "      <td>0.285880</td>\n",
       "      <td>0.366120</td>\n",
       "    </tr>\n",
       "    <tr>\n",
       "      <th>9997</th>\n",
       "      <td>2.364034</td>\n",
       "      <td>2.842030</td>\n",
       "      <td>8.776391</td>\n",
       "      <td>1.008906</td>\n",
       "      <td>4.299976</td>\n",
       "      <td>-1.380719</td>\n",
       "      <td>-0.943884</td>\n",
       "      <td>-1.975373</td>\n",
       "      <td>0.487838</td>\n",
       "      <td>0.986505</td>\n",
       "      <td>0.149286</td>\n",
       "      <td>0.145984</td>\n",
       "    </tr>\n",
       "    <tr>\n",
       "      <th>9998</th>\n",
       "      <td>9.631511</td>\n",
       "      <td>3.994398</td>\n",
       "      <td>2.757071</td>\n",
       "      <td>7.821347</td>\n",
       "      <td>2.514755</td>\n",
       "      <td>-0.966330</td>\n",
       "      <td>-0.649915</td>\n",
       "      <td>-0.898510</td>\n",
       "      <td>0.365246</td>\n",
       "      <td>0.587558</td>\n",
       "      <td>0.889118</td>\n",
       "      <td>0.818391</td>\n",
       "    </tr>\n",
       "    <tr>\n",
       "      <th>9999</th>\n",
       "      <td>6.530527</td>\n",
       "      <td>6.781790</td>\n",
       "      <td>4.349695</td>\n",
       "      <td>8.673138</td>\n",
       "      <td>3.492807</td>\n",
       "      <td>-1.390285</td>\n",
       "      <td>-1.532193</td>\n",
       "      <td>-0.570329</td>\n",
       "      <td>0.073056</td>\n",
       "      <td>0.505441</td>\n",
       "      <td>0.378761</td>\n",
       "      <td>0.942631</td>\n",
       "    </tr>\n",
       "  </tbody>\n",
       "</table>\n",
       "<p>10000 rows × 12 columns</p>\n",
       "</div>"
      ],
      "text/plain": [
       "          tau1      tau2      tau3      tau4        p1        p2        p3  \\\n",
       "0     2.959060  3.079885  8.381025  9.780754  3.763085 -0.782604 -1.257395   \n",
       "1     9.304097  4.902524  3.047541  1.369357  3.751025 -1.940058 -1.872742   \n",
       "2     8.971707  8.848428  3.046479  1.214518  3.405158 -1.207456 -1.277210   \n",
       "3     0.716415  7.669600  4.486641  2.340563  3.963791 -1.027473 -1.938944   \n",
       "4     3.134112  7.608772  4.943759  9.857573  3.525811 -1.125531 -1.845975   \n",
       "...        ...       ...       ...       ...       ...       ...       ...   \n",
       "9995  2.930406  9.487627  2.376523  6.187797  3.343416 -0.658054 -1.449106   \n",
       "9996  3.392299  1.274827  2.954947  6.894759  4.349512 -1.663661 -0.952437   \n",
       "9997  2.364034  2.842030  8.776391  1.008906  4.299976 -1.380719 -0.943884   \n",
       "9998  9.631511  3.994398  2.757071  7.821347  2.514755 -0.966330 -0.649915   \n",
       "9999  6.530527  6.781790  4.349695  8.673138  3.492807 -1.390285 -1.532193   \n",
       "\n",
       "            p4        g1        g2        g3        g4  \n",
       "0    -1.723086  0.650456  0.859578  0.887445  0.958034  \n",
       "1    -1.255012  0.413441  0.862414  0.562139  0.781760  \n",
       "2    -0.920492  0.163041  0.766689  0.839444  0.109853  \n",
       "3    -0.997374  0.446209  0.976744  0.929381  0.362718  \n",
       "4    -0.554305  0.797110  0.455450  0.656947  0.820923  \n",
       "...        ...       ...       ...       ...       ...  \n",
       "9995 -1.236256  0.601709  0.779642  0.813512  0.608385  \n",
       "9996 -1.733414  0.502079  0.567242  0.285880  0.366120  \n",
       "9997 -1.975373  0.487838  0.986505  0.149286  0.145984  \n",
       "9998 -0.898510  0.365246  0.587558  0.889118  0.818391  \n",
       "9999 -0.570329  0.073056  0.505441  0.378761  0.942631  \n",
       "\n",
       "[10000 rows x 12 columns]"
      ]
     },
     "execution_count": 155,
     "metadata": {},
     "output_type": "execute_result"
    }
   ],
   "source": [
    "features\n"
   ]
  },
  {
   "cell_type": "code",
   "execution_count": 164,
   "metadata": {},
   "outputs": [
    {
     "data": {
      "text/plain": [
       "tau1    False\n",
       "tau2    False\n",
       "tau3    False\n",
       "tau4    False\n",
       "p1      False\n",
       "p2      False\n",
       "p3      False\n",
       "p4      False\n",
       "g1      False\n",
       "g2      False\n",
       "g3      False\n",
       "g4      False\n",
       "dtype: bool"
      ]
     },
     "execution_count": 164,
     "metadata": {},
     "output_type": "execute_result"
    }
   ],
   "source": [
    "features.isna().any()"
   ]
  },
  {
   "cell_type": "code",
   "execution_count": 156,
   "metadata": {},
   "outputs": [
    {
     "data": {
      "text/html": [
       "<div>\n",
       "<style scoped>\n",
       "    .dataframe tbody tr th:only-of-type {\n",
       "        vertical-align: middle;\n",
       "    }\n",
       "\n",
       "    .dataframe tbody tr th {\n",
       "        vertical-align: top;\n",
       "    }\n",
       "\n",
       "    .dataframe thead th {\n",
       "        text-align: right;\n",
       "    }\n",
       "</style>\n",
       "<table border=\"1\" class=\"dataframe\">\n",
       "  <thead>\n",
       "    <tr style=\"text-align: right;\">\n",
       "      <th></th>\n",
       "      <th>stabf</th>\n",
       "    </tr>\n",
       "  </thead>\n",
       "  <tbody>\n",
       "    <tr>\n",
       "      <th>0</th>\n",
       "      <td>unstable</td>\n",
       "    </tr>\n",
       "    <tr>\n",
       "      <th>1</th>\n",
       "      <td>stable</td>\n",
       "    </tr>\n",
       "    <tr>\n",
       "      <th>2</th>\n",
       "      <td>unstable</td>\n",
       "    </tr>\n",
       "    <tr>\n",
       "      <th>3</th>\n",
       "      <td>unstable</td>\n",
       "    </tr>\n",
       "    <tr>\n",
       "      <th>4</th>\n",
       "      <td>unstable</td>\n",
       "    </tr>\n",
       "    <tr>\n",
       "      <th>...</th>\n",
       "      <td>...</td>\n",
       "    </tr>\n",
       "    <tr>\n",
       "      <th>9995</th>\n",
       "      <td>unstable</td>\n",
       "    </tr>\n",
       "    <tr>\n",
       "      <th>9996</th>\n",
       "      <td>stable</td>\n",
       "    </tr>\n",
       "    <tr>\n",
       "      <th>9997</th>\n",
       "      <td>stable</td>\n",
       "    </tr>\n",
       "    <tr>\n",
       "      <th>9998</th>\n",
       "      <td>unstable</td>\n",
       "    </tr>\n",
       "    <tr>\n",
       "      <th>9999</th>\n",
       "      <td>unstable</td>\n",
       "    </tr>\n",
       "  </tbody>\n",
       "</table>\n",
       "<p>10000 rows × 1 columns</p>\n",
       "</div>"
      ],
      "text/plain": [
       "         stabf\n",
       "0     unstable\n",
       "1       stable\n",
       "2     unstable\n",
       "3     unstable\n",
       "4     unstable\n",
       "...        ...\n",
       "9995  unstable\n",
       "9996    stable\n",
       "9997    stable\n",
       "9998  unstable\n",
       "9999  unstable\n",
       "\n",
       "[10000 rows x 1 columns]"
      ]
     },
     "execution_count": 156,
     "metadata": {},
     "output_type": "execute_result"
    }
   ],
   "source": [
    "target"
   ]
  },
  {
   "cell_type": "code",
   "execution_count": 163,
   "metadata": {},
   "outputs": [
    {
     "data": {
      "text/plain": [
       "stabf    False\n",
       "dtype: bool"
      ]
     },
     "execution_count": 163,
     "metadata": {},
     "output_type": "execute_result"
    }
   ],
   "source": [
    "target.isna().any()"
   ]
  },
  {
   "cell_type": "code",
   "execution_count": 204,
   "metadata": {},
   "outputs": [],
   "source": [
    "scaler = StandardScaler()"
   ]
  },
  {
   "cell_type": "code",
   "execution_count": 205,
   "metadata": {},
   "outputs": [],
   "source": [
    "scaled_data  = pd.DataFrame(scaler.fit_transform(features), columns = features.columns.to_list())"
   ]
  },
  {
   "cell_type": "code",
   "execution_count": 206,
   "metadata": {},
   "outputs": [],
   "source": [
    "scaled_data = scaled_data.merge(target, left_index=True, right_index=True)"
   ]
  },
  {
   "cell_type": "code",
   "execution_count": 207,
   "metadata": {},
   "outputs": [
    {
     "data": {
      "text/html": [
       "<div>\n",
       "<style scoped>\n",
       "    .dataframe tbody tr th:only-of-type {\n",
       "        vertical-align: middle;\n",
       "    }\n",
       "\n",
       "    .dataframe tbody tr th {\n",
       "        vertical-align: top;\n",
       "    }\n",
       "\n",
       "    .dataframe thead th {\n",
       "        text-align: right;\n",
       "    }\n",
       "</style>\n",
       "<table border=\"1\" class=\"dataframe\">\n",
       "  <thead>\n",
       "    <tr style=\"text-align: right;\">\n",
       "      <th></th>\n",
       "      <th>tau1</th>\n",
       "      <th>tau2</th>\n",
       "      <th>tau3</th>\n",
       "      <th>tau4</th>\n",
       "      <th>p1</th>\n",
       "      <th>p2</th>\n",
       "      <th>p3</th>\n",
       "      <th>p4</th>\n",
       "      <th>g1</th>\n",
       "      <th>g2</th>\n",
       "      <th>g3</th>\n",
       "      <th>g4</th>\n",
       "      <th>stabf</th>\n",
       "    </tr>\n",
       "  </thead>\n",
       "  <tbody>\n",
       "    <tr>\n",
       "      <th>0</th>\n",
       "      <td>-0.835374</td>\n",
       "      <td>-0.791317</td>\n",
       "      <td>1.141704</td>\n",
       "      <td>1.652103</td>\n",
       "      <td>0.021237</td>\n",
       "      <td>1.079405</td>\n",
       "      <td>-0.017078</td>\n",
       "      <td>-1.092545</td>\n",
       "      <td>0.457467</td>\n",
       "      <td>1.220013</td>\n",
       "      <td>1.321628</td>\n",
       "      <td>1.579026</td>\n",
       "      <td>unstable</td>\n",
       "    </tr>\n",
       "    <tr>\n",
       "      <th>1</th>\n",
       "      <td>1.478297</td>\n",
       "      <td>-0.126705</td>\n",
       "      <td>-0.803111</td>\n",
       "      <td>-1.415043</td>\n",
       "      <td>0.000406</td>\n",
       "      <td>-1.593619</td>\n",
       "      <td>-1.438158</td>\n",
       "      <td>-0.011575</td>\n",
       "      <td>-0.406791</td>\n",
       "      <td>1.230354</td>\n",
       "      <td>0.135424</td>\n",
       "      <td>0.936256</td>\n",
       "      <td>stable</td>\n",
       "    </tr>\n",
       "    <tr>\n",
       "      <th>2</th>\n",
       "      <td>1.357093</td>\n",
       "      <td>1.312140</td>\n",
       "      <td>-0.803499</td>\n",
       "      <td>-1.471504</td>\n",
       "      <td>-0.597030</td>\n",
       "      <td>0.098253</td>\n",
       "      <td>-0.062840</td>\n",
       "      <td>0.760963</td>\n",
       "      <td>-1.319852</td>\n",
       "      <td>0.881299</td>\n",
       "      <td>1.146596</td>\n",
       "      <td>-1.513802</td>\n",
       "      <td>unstable</td>\n",
       "    </tr>\n",
       "    <tr>\n",
       "      <th>3</th>\n",
       "      <td>-1.653138</td>\n",
       "      <td>0.882289</td>\n",
       "      <td>-0.278354</td>\n",
       "      <td>-1.060901</td>\n",
       "      <td>0.367928</td>\n",
       "      <td>0.513904</td>\n",
       "      <td>-1.591046</td>\n",
       "      <td>0.583414</td>\n",
       "      <td>-0.287304</td>\n",
       "      <td>1.647250</td>\n",
       "      <td>1.474543</td>\n",
       "      <td>-0.591750</td>\n",
       "      <td>unstable</td>\n",
       "    </tr>\n",
       "    <tr>\n",
       "      <th>4</th>\n",
       "      <td>-0.771543</td>\n",
       "      <td>0.860108</td>\n",
       "      <td>-0.111670</td>\n",
       "      <td>1.680114</td>\n",
       "      <td>-0.388620</td>\n",
       "      <td>0.287450</td>\n",
       "      <td>-1.376343</td>\n",
       "      <td>1.606636</td>\n",
       "      <td>0.992226</td>\n",
       "      <td>-0.253610</td>\n",
       "      <td>0.481133</td>\n",
       "      <td>1.079063</td>\n",
       "      <td>unstable</td>\n",
       "    </tr>\n",
       "    <tr>\n",
       "      <th>...</th>\n",
       "      <td>...</td>\n",
       "      <td>...</td>\n",
       "      <td>...</td>\n",
       "      <td>...</td>\n",
       "      <td>...</td>\n",
       "      <td>...</td>\n",
       "      <td>...</td>\n",
       "      <td>...</td>\n",
       "      <td>...</td>\n",
       "      <td>...</td>\n",
       "      <td>...</td>\n",
       "      <td>...</td>\n",
       "      <td>...</td>\n",
       "    </tr>\n",
       "    <tr>\n",
       "      <th>9995</th>\n",
       "      <td>-0.845823</td>\n",
       "      <td>1.545219</td>\n",
       "      <td>-1.047793</td>\n",
       "      <td>0.341961</td>\n",
       "      <td>-0.703681</td>\n",
       "      <td>1.367041</td>\n",
       "      <td>-0.459815</td>\n",
       "      <td>0.031739</td>\n",
       "      <td>0.279714</td>\n",
       "      <td>0.928533</td>\n",
       "      <td>1.052035</td>\n",
       "      <td>0.304055</td>\n",
       "      <td>unstable</td>\n",
       "    </tr>\n",
       "    <tr>\n",
       "      <th>9996</th>\n",
       "      <td>-0.677397</td>\n",
       "      <td>-1.449518</td>\n",
       "      <td>-0.836875</td>\n",
       "      <td>0.599749</td>\n",
       "      <td>1.034207</td>\n",
       "      <td>-0.955307</td>\n",
       "      <td>0.687190</td>\n",
       "      <td>-1.116396</td>\n",
       "      <td>-0.083579</td>\n",
       "      <td>0.154031</td>\n",
       "      <td>-0.871936</td>\n",
       "      <td>-0.579344</td>\n",
       "      <td>stable</td>\n",
       "    </tr>\n",
       "    <tr>\n",
       "      <th>9997</th>\n",
       "      <td>-1.052346</td>\n",
       "      <td>-0.878049</td>\n",
       "      <td>1.285871</td>\n",
       "      <td>-1.546478</td>\n",
       "      <td>0.948639</td>\n",
       "      <td>-0.301880</td>\n",
       "      <td>0.706942</td>\n",
       "      <td>-1.675175</td>\n",
       "      <td>-0.135508</td>\n",
       "      <td>1.682844</td>\n",
       "      <td>-1.370013</td>\n",
       "      <td>-1.382054</td>\n",
       "      <td>stable</td>\n",
       "    </tr>\n",
       "    <tr>\n",
       "      <th>9998</th>\n",
       "      <td>1.597686</td>\n",
       "      <td>-0.457846</td>\n",
       "      <td>-0.909029</td>\n",
       "      <td>0.937621</td>\n",
       "      <td>-2.135074</td>\n",
       "      <td>0.655109</td>\n",
       "      <td>1.385835</td>\n",
       "      <td>0.811729</td>\n",
       "      <td>-0.582529</td>\n",
       "      <td>0.228110</td>\n",
       "      <td>1.327730</td>\n",
       "      <td>1.069829</td>\n",
       "      <td>unstable</td>\n",
       "    </tr>\n",
       "    <tr>\n",
       "      <th>9999</th>\n",
       "      <td>0.466935</td>\n",
       "      <td>0.558555</td>\n",
       "      <td>-0.328291</td>\n",
       "      <td>1.248220</td>\n",
       "      <td>-0.445629</td>\n",
       "      <td>-0.323974</td>\n",
       "      <td>-0.651695</td>\n",
       "      <td>1.569629</td>\n",
       "      <td>-1.647977</td>\n",
       "      <td>-0.071321</td>\n",
       "      <td>-0.533251</td>\n",
       "      <td>1.522860</td>\n",
       "      <td>unstable</td>\n",
       "    </tr>\n",
       "  </tbody>\n",
       "</table>\n",
       "<p>10000 rows × 13 columns</p>\n",
       "</div>"
      ],
      "text/plain": [
       "          tau1      tau2      tau3      tau4        p1        p2        p3  \\\n",
       "0    -0.835374 -0.791317  1.141704  1.652103  0.021237  1.079405 -0.017078   \n",
       "1     1.478297 -0.126705 -0.803111 -1.415043  0.000406 -1.593619 -1.438158   \n",
       "2     1.357093  1.312140 -0.803499 -1.471504 -0.597030  0.098253 -0.062840   \n",
       "3    -1.653138  0.882289 -0.278354 -1.060901  0.367928  0.513904 -1.591046   \n",
       "4    -0.771543  0.860108 -0.111670  1.680114 -0.388620  0.287450 -1.376343   \n",
       "...        ...       ...       ...       ...       ...       ...       ...   \n",
       "9995 -0.845823  1.545219 -1.047793  0.341961 -0.703681  1.367041 -0.459815   \n",
       "9996 -0.677397 -1.449518 -0.836875  0.599749  1.034207 -0.955307  0.687190   \n",
       "9997 -1.052346 -0.878049  1.285871 -1.546478  0.948639 -0.301880  0.706942   \n",
       "9998  1.597686 -0.457846 -0.909029  0.937621 -2.135074  0.655109  1.385835   \n",
       "9999  0.466935  0.558555 -0.328291  1.248220 -0.445629 -0.323974 -0.651695   \n",
       "\n",
       "            p4        g1        g2        g3        g4     stabf  \n",
       "0    -1.092545  0.457467  1.220013  1.321628  1.579026  unstable  \n",
       "1    -0.011575 -0.406791  1.230354  0.135424  0.936256    stable  \n",
       "2     0.760963 -1.319852  0.881299  1.146596 -1.513802  unstable  \n",
       "3     0.583414 -0.287304  1.647250  1.474543 -0.591750  unstable  \n",
       "4     1.606636  0.992226 -0.253610  0.481133  1.079063  unstable  \n",
       "...        ...       ...       ...       ...       ...       ...  \n",
       "9995  0.031739  0.279714  0.928533  1.052035  0.304055  unstable  \n",
       "9996 -1.116396 -0.083579  0.154031 -0.871936 -0.579344    stable  \n",
       "9997 -1.675175 -0.135508  1.682844 -1.370013 -1.382054    stable  \n",
       "9998  0.811729 -0.582529  0.228110  1.327730  1.069829  unstable  \n",
       "9999  1.569629 -1.647977 -0.071321 -0.533251  1.522860  unstable  \n",
       "\n",
       "[10000 rows x 13 columns]"
      ]
     },
     "execution_count": 207,
     "metadata": {},
     "output_type": "execute_result"
    }
   ],
   "source": [
    "scaled_data"
   ]
  },
  {
   "cell_type": "code",
   "execution_count": 208,
   "metadata": {},
   "outputs": [
    {
     "data": {
      "text/plain": [
       "tau1     False\n",
       "tau2     False\n",
       "tau3     False\n",
       "tau4     False\n",
       "p1       False\n",
       "p2       False\n",
       "p3       False\n",
       "p4       False\n",
       "g1       False\n",
       "g2       False\n",
       "g3       False\n",
       "g4       False\n",
       "stabf    False\n",
       "dtype: bool"
      ]
     },
     "execution_count": 208,
     "metadata": {},
     "output_type": "execute_result"
    }
   ],
   "source": [
    "scaled_data.isna().any()"
   ]
  },
  {
   "cell_type": "markdown",
   "metadata": {},
   "source": [
    "#### Oversampling with SMOTE algorithm"
   ]
  },
  {
   "cell_type": "markdown",
   "metadata": {},
   "source": [
    "-  let's split to train and test first\n",
    "- then encode target varibles"
   ]
  },
  {
   "cell_type": "code",
   "execution_count": 209,
   "metadata": {},
   "outputs": [],
   "source": [
    "y, x = scaled_data.stabf,scaled_data.drop('stabf', axis=1)"
   ]
  },
  {
   "cell_type": "code",
   "execution_count": 210,
   "metadata": {},
   "outputs": [
    {
     "data": {
      "text/html": [
       "<div>\n",
       "<style scoped>\n",
       "    .dataframe tbody tr th:only-of-type {\n",
       "        vertical-align: middle;\n",
       "    }\n",
       "\n",
       "    .dataframe tbody tr th {\n",
       "        vertical-align: top;\n",
       "    }\n",
       "\n",
       "    .dataframe thead th {\n",
       "        text-align: right;\n",
       "    }\n",
       "</style>\n",
       "<table border=\"1\" class=\"dataframe\">\n",
       "  <thead>\n",
       "    <tr style=\"text-align: right;\">\n",
       "      <th></th>\n",
       "      <th>tau1</th>\n",
       "      <th>tau2</th>\n",
       "      <th>tau3</th>\n",
       "      <th>tau4</th>\n",
       "      <th>p1</th>\n",
       "      <th>p2</th>\n",
       "      <th>p3</th>\n",
       "      <th>p4</th>\n",
       "      <th>g1</th>\n",
       "      <th>g2</th>\n",
       "      <th>g3</th>\n",
       "      <th>g4</th>\n",
       "    </tr>\n",
       "  </thead>\n",
       "  <tbody>\n",
       "    <tr>\n",
       "      <th>0</th>\n",
       "      <td>-0.835374</td>\n",
       "      <td>-0.791317</td>\n",
       "      <td>1.141704</td>\n",
       "      <td>1.652103</td>\n",
       "      <td>0.021237</td>\n",
       "      <td>1.079405</td>\n",
       "      <td>-0.017078</td>\n",
       "      <td>-1.092545</td>\n",
       "      <td>0.457467</td>\n",
       "      <td>1.220013</td>\n",
       "      <td>1.321628</td>\n",
       "      <td>1.579026</td>\n",
       "    </tr>\n",
       "    <tr>\n",
       "      <th>1</th>\n",
       "      <td>1.478297</td>\n",
       "      <td>-0.126705</td>\n",
       "      <td>-0.803111</td>\n",
       "      <td>-1.415043</td>\n",
       "      <td>0.000406</td>\n",
       "      <td>-1.593619</td>\n",
       "      <td>-1.438158</td>\n",
       "      <td>-0.011575</td>\n",
       "      <td>-0.406791</td>\n",
       "      <td>1.230354</td>\n",
       "      <td>0.135424</td>\n",
       "      <td>0.936256</td>\n",
       "    </tr>\n",
       "    <tr>\n",
       "      <th>2</th>\n",
       "      <td>1.357093</td>\n",
       "      <td>1.312140</td>\n",
       "      <td>-0.803499</td>\n",
       "      <td>-1.471504</td>\n",
       "      <td>-0.597030</td>\n",
       "      <td>0.098253</td>\n",
       "      <td>-0.062840</td>\n",
       "      <td>0.760963</td>\n",
       "      <td>-1.319852</td>\n",
       "      <td>0.881299</td>\n",
       "      <td>1.146596</td>\n",
       "      <td>-1.513802</td>\n",
       "    </tr>\n",
       "    <tr>\n",
       "      <th>3</th>\n",
       "      <td>-1.653138</td>\n",
       "      <td>0.882289</td>\n",
       "      <td>-0.278354</td>\n",
       "      <td>-1.060901</td>\n",
       "      <td>0.367928</td>\n",
       "      <td>0.513904</td>\n",
       "      <td>-1.591046</td>\n",
       "      <td>0.583414</td>\n",
       "      <td>-0.287304</td>\n",
       "      <td>1.647250</td>\n",
       "      <td>1.474543</td>\n",
       "      <td>-0.591750</td>\n",
       "    </tr>\n",
       "    <tr>\n",
       "      <th>4</th>\n",
       "      <td>-0.771543</td>\n",
       "      <td>0.860108</td>\n",
       "      <td>-0.111670</td>\n",
       "      <td>1.680114</td>\n",
       "      <td>-0.388620</td>\n",
       "      <td>0.287450</td>\n",
       "      <td>-1.376343</td>\n",
       "      <td>1.606636</td>\n",
       "      <td>0.992226</td>\n",
       "      <td>-0.253610</td>\n",
       "      <td>0.481133</td>\n",
       "      <td>1.079063</td>\n",
       "    </tr>\n",
       "    <tr>\n",
       "      <th>...</th>\n",
       "      <td>...</td>\n",
       "      <td>...</td>\n",
       "      <td>...</td>\n",
       "      <td>...</td>\n",
       "      <td>...</td>\n",
       "      <td>...</td>\n",
       "      <td>...</td>\n",
       "      <td>...</td>\n",
       "      <td>...</td>\n",
       "      <td>...</td>\n",
       "      <td>...</td>\n",
       "      <td>...</td>\n",
       "    </tr>\n",
       "    <tr>\n",
       "      <th>9995</th>\n",
       "      <td>-0.845823</td>\n",
       "      <td>1.545219</td>\n",
       "      <td>-1.047793</td>\n",
       "      <td>0.341961</td>\n",
       "      <td>-0.703681</td>\n",
       "      <td>1.367041</td>\n",
       "      <td>-0.459815</td>\n",
       "      <td>0.031739</td>\n",
       "      <td>0.279714</td>\n",
       "      <td>0.928533</td>\n",
       "      <td>1.052035</td>\n",
       "      <td>0.304055</td>\n",
       "    </tr>\n",
       "    <tr>\n",
       "      <th>9996</th>\n",
       "      <td>-0.677397</td>\n",
       "      <td>-1.449518</td>\n",
       "      <td>-0.836875</td>\n",
       "      <td>0.599749</td>\n",
       "      <td>1.034207</td>\n",
       "      <td>-0.955307</td>\n",
       "      <td>0.687190</td>\n",
       "      <td>-1.116396</td>\n",
       "      <td>-0.083579</td>\n",
       "      <td>0.154031</td>\n",
       "      <td>-0.871936</td>\n",
       "      <td>-0.579344</td>\n",
       "    </tr>\n",
       "    <tr>\n",
       "      <th>9997</th>\n",
       "      <td>-1.052346</td>\n",
       "      <td>-0.878049</td>\n",
       "      <td>1.285871</td>\n",
       "      <td>-1.546478</td>\n",
       "      <td>0.948639</td>\n",
       "      <td>-0.301880</td>\n",
       "      <td>0.706942</td>\n",
       "      <td>-1.675175</td>\n",
       "      <td>-0.135508</td>\n",
       "      <td>1.682844</td>\n",
       "      <td>-1.370013</td>\n",
       "      <td>-1.382054</td>\n",
       "    </tr>\n",
       "    <tr>\n",
       "      <th>9998</th>\n",
       "      <td>1.597686</td>\n",
       "      <td>-0.457846</td>\n",
       "      <td>-0.909029</td>\n",
       "      <td>0.937621</td>\n",
       "      <td>-2.135074</td>\n",
       "      <td>0.655109</td>\n",
       "      <td>1.385835</td>\n",
       "      <td>0.811729</td>\n",
       "      <td>-0.582529</td>\n",
       "      <td>0.228110</td>\n",
       "      <td>1.327730</td>\n",
       "      <td>1.069829</td>\n",
       "    </tr>\n",
       "    <tr>\n",
       "      <th>9999</th>\n",
       "      <td>0.466935</td>\n",
       "      <td>0.558555</td>\n",
       "      <td>-0.328291</td>\n",
       "      <td>1.248220</td>\n",
       "      <td>-0.445629</td>\n",
       "      <td>-0.323974</td>\n",
       "      <td>-0.651695</td>\n",
       "      <td>1.569629</td>\n",
       "      <td>-1.647977</td>\n",
       "      <td>-0.071321</td>\n",
       "      <td>-0.533251</td>\n",
       "      <td>1.522860</td>\n",
       "    </tr>\n",
       "  </tbody>\n",
       "</table>\n",
       "<p>10000 rows × 12 columns</p>\n",
       "</div>"
      ],
      "text/plain": [
       "          tau1      tau2      tau3      tau4        p1        p2        p3  \\\n",
       "0    -0.835374 -0.791317  1.141704  1.652103  0.021237  1.079405 -0.017078   \n",
       "1     1.478297 -0.126705 -0.803111 -1.415043  0.000406 -1.593619 -1.438158   \n",
       "2     1.357093  1.312140 -0.803499 -1.471504 -0.597030  0.098253 -0.062840   \n",
       "3    -1.653138  0.882289 -0.278354 -1.060901  0.367928  0.513904 -1.591046   \n",
       "4    -0.771543  0.860108 -0.111670  1.680114 -0.388620  0.287450 -1.376343   \n",
       "...        ...       ...       ...       ...       ...       ...       ...   \n",
       "9995 -0.845823  1.545219 -1.047793  0.341961 -0.703681  1.367041 -0.459815   \n",
       "9996 -0.677397 -1.449518 -0.836875  0.599749  1.034207 -0.955307  0.687190   \n",
       "9997 -1.052346 -0.878049  1.285871 -1.546478  0.948639 -0.301880  0.706942   \n",
       "9998  1.597686 -0.457846 -0.909029  0.937621 -2.135074  0.655109  1.385835   \n",
       "9999  0.466935  0.558555 -0.328291  1.248220 -0.445629 -0.323974 -0.651695   \n",
       "\n",
       "            p4        g1        g2        g3        g4  \n",
       "0    -1.092545  0.457467  1.220013  1.321628  1.579026  \n",
       "1    -0.011575 -0.406791  1.230354  0.135424  0.936256  \n",
       "2     0.760963 -1.319852  0.881299  1.146596 -1.513802  \n",
       "3     0.583414 -0.287304  1.647250  1.474543 -0.591750  \n",
       "4     1.606636  0.992226 -0.253610  0.481133  1.079063  \n",
       "...        ...       ...       ...       ...       ...  \n",
       "9995  0.031739  0.279714  0.928533  1.052035  0.304055  \n",
       "9996 -1.116396 -0.083579  0.154031 -0.871936 -0.579344  \n",
       "9997 -1.675175 -0.135508  1.682844 -1.370013 -1.382054  \n",
       "9998  0.811729 -0.582529  0.228110  1.327730  1.069829  \n",
       "9999  1.569629 -1.647977 -0.071321 -0.533251  1.522860  \n",
       "\n",
       "[10000 rows x 12 columns]"
      ]
     },
     "execution_count": 210,
     "metadata": {},
     "output_type": "execute_result"
    }
   ],
   "source": [
    "x"
   ]
  },
  {
   "cell_type": "code",
   "execution_count": 211,
   "metadata": {},
   "outputs": [
    {
     "data": {
      "text/plain": [
       "0       unstable\n",
       "1         stable\n",
       "2       unstable\n",
       "3       unstable\n",
       "4       unstable\n",
       "          ...   \n",
       "9995    unstable\n",
       "9996      stable\n",
       "9997      stable\n",
       "9998    unstable\n",
       "9999    unstable\n",
       "Name: stabf, Length: 10000, dtype: object"
      ]
     },
     "execution_count": 211,
     "metadata": {},
     "output_type": "execute_result"
    }
   ],
   "source": [
    "y"
   ]
  },
  {
   "cell_type": "code",
   "execution_count": 213,
   "metadata": {},
   "outputs": [],
   "source": [
    "x_train, x_test, y_train, y_test = train_test_split(x, y, test_size=0.2, random_state=1)"
   ]
  },
  {
   "cell_type": "code",
   "execution_count": 214,
   "metadata": {},
   "outputs": [
    {
     "data": {
      "text/html": [
       "<div>\n",
       "<style scoped>\n",
       "    .dataframe tbody tr th:only-of-type {\n",
       "        vertical-align: middle;\n",
       "    }\n",
       "\n",
       "    .dataframe tbody tr th {\n",
       "        vertical-align: top;\n",
       "    }\n",
       "\n",
       "    .dataframe thead th {\n",
       "        text-align: right;\n",
       "    }\n",
       "</style>\n",
       "<table border=\"1\" class=\"dataframe\">\n",
       "  <thead>\n",
       "    <tr style=\"text-align: right;\">\n",
       "      <th></th>\n",
       "      <th>tau1</th>\n",
       "      <th>tau2</th>\n",
       "      <th>tau3</th>\n",
       "      <th>tau4</th>\n",
       "      <th>p1</th>\n",
       "      <th>p2</th>\n",
       "      <th>p3</th>\n",
       "      <th>p4</th>\n",
       "      <th>g1</th>\n",
       "      <th>g2</th>\n",
       "      <th>g3</th>\n",
       "      <th>g4</th>\n",
       "    </tr>\n",
       "  </thead>\n",
       "  <tbody>\n",
       "    <tr>\n",
       "      <th>2694</th>\n",
       "      <td>0.366829</td>\n",
       "      <td>-0.987306</td>\n",
       "      <td>0.647135</td>\n",
       "      <td>1.541166</td>\n",
       "      <td>-0.381576</td>\n",
       "      <td>0.058010</td>\n",
       "      <td>1.297355</td>\n",
       "      <td>-0.847041</td>\n",
       "      <td>0.157604</td>\n",
       "      <td>0.340586</td>\n",
       "      <td>0.586122</td>\n",
       "      <td>0.492587</td>\n",
       "    </tr>\n",
       "    <tr>\n",
       "      <th>5140</th>\n",
       "      <td>-0.065424</td>\n",
       "      <td>0.087606</td>\n",
       "      <td>1.030365</td>\n",
       "      <td>-1.636848</td>\n",
       "      <td>0.812027</td>\n",
       "      <td>-0.070658</td>\n",
       "      <td>-1.506156</td>\n",
       "      <td>0.489346</td>\n",
       "      <td>-0.297128</td>\n",
       "      <td>-1.559781</td>\n",
       "      <td>1.429232</td>\n",
       "      <td>-1.443061</td>\n",
       "    </tr>\n",
       "    <tr>\n",
       "      <th>2568</th>\n",
       "      <td>-1.469483</td>\n",
       "      <td>1.295950</td>\n",
       "      <td>-0.501646</td>\n",
       "      <td>1.161001</td>\n",
       "      <td>-0.236239</td>\n",
       "      <td>0.486738</td>\n",
       "      <td>0.684583</td>\n",
       "      <td>-0.857305</td>\n",
       "      <td>1.397865</td>\n",
       "      <td>1.453443</td>\n",
       "      <td>-1.043314</td>\n",
       "      <td>0.492837</td>\n",
       "    </tr>\n",
       "    <tr>\n",
       "      <th>3671</th>\n",
       "      <td>0.819863</td>\n",
       "      <td>0.527857</td>\n",
       "      <td>1.293979</td>\n",
       "      <td>-1.139053</td>\n",
       "      <td>-1.064407</td>\n",
       "      <td>-0.766503</td>\n",
       "      <td>1.525620</td>\n",
       "      <td>0.662121</td>\n",
       "      <td>-0.963287</td>\n",
       "      <td>1.363773</td>\n",
       "      <td>1.603523</td>\n",
       "      <td>0.275663</td>\n",
       "    </tr>\n",
       "    <tr>\n",
       "      <th>7427</th>\n",
       "      <td>0.665110</td>\n",
       "      <td>-1.426660</td>\n",
       "      <td>0.310221</td>\n",
       "      <td>0.914944</td>\n",
       "      <td>-2.114056</td>\n",
       "      <td>0.756237</td>\n",
       "      <td>1.425821</td>\n",
       "      <td>0.642515</td>\n",
       "      <td>1.675819</td>\n",
       "      <td>0.696765</td>\n",
       "      <td>1.137423</td>\n",
       "      <td>-1.312122</td>\n",
       "    </tr>\n",
       "    <tr>\n",
       "      <th>...</th>\n",
       "      <td>...</td>\n",
       "      <td>...</td>\n",
       "      <td>...</td>\n",
       "      <td>...</td>\n",
       "      <td>...</td>\n",
       "      <td>...</td>\n",
       "      <td>...</td>\n",
       "      <td>...</td>\n",
       "      <td>...</td>\n",
       "      <td>...</td>\n",
       "      <td>...</td>\n",
       "      <td>...</td>\n",
       "    </tr>\n",
       "    <tr>\n",
       "      <th>2895</th>\n",
       "      <td>1.551548</td>\n",
       "      <td>0.005620</td>\n",
       "      <td>-1.174290</td>\n",
       "      <td>1.012368</td>\n",
       "      <td>-0.519994</td>\n",
       "      <td>0.755743</td>\n",
       "      <td>-0.638100</td>\n",
       "      <td>0.575741</td>\n",
       "      <td>-1.214751</td>\n",
       "      <td>0.314675</td>\n",
       "      <td>-1.622632</td>\n",
       "      <td>-0.636988</td>\n",
       "    </tr>\n",
       "    <tr>\n",
       "      <th>7813</th>\n",
       "      <td>1.015828</td>\n",
       "      <td>-0.225150</td>\n",
       "      <td>-1.484895</td>\n",
       "      <td>-1.474993</td>\n",
       "      <td>0.591477</td>\n",
       "      <td>-0.734891</td>\n",
       "      <td>0.993118</td>\n",
       "      <td>-1.050832</td>\n",
       "      <td>-1.099815</td>\n",
       "      <td>-0.755649</td>\n",
       "      <td>0.735203</td>\n",
       "      <td>-0.304039</td>\n",
       "    </tr>\n",
       "    <tr>\n",
       "      <th>905</th>\n",
       "      <td>0.657290</td>\n",
       "      <td>-0.724160</td>\n",
       "      <td>-1.401705</td>\n",
       "      <td>-0.274374</td>\n",
       "      <td>-0.016292</td>\n",
       "      <td>1.434079</td>\n",
       "      <td>-0.364759</td>\n",
       "      <td>-1.049362</td>\n",
       "      <td>1.251838</td>\n",
       "      <td>0.293777</td>\n",
       "      <td>-1.547578</td>\n",
       "      <td>0.810673</td>\n",
       "    </tr>\n",
       "    <tr>\n",
       "      <th>5192</th>\n",
       "      <td>-0.060078</td>\n",
       "      <td>-1.261653</td>\n",
       "      <td>-1.007730</td>\n",
       "      <td>-0.875798</td>\n",
       "      <td>-1.021075</td>\n",
       "      <td>0.824691</td>\n",
       "      <td>0.518548</td>\n",
       "      <td>0.020067</td>\n",
       "      <td>-0.186269</td>\n",
       "      <td>-0.388303</td>\n",
       "      <td>-0.724719</td>\n",
       "      <td>1.668195</td>\n",
       "    </tr>\n",
       "    <tr>\n",
       "      <th>235</th>\n",
       "      <td>-1.474850</td>\n",
       "      <td>0.636317</td>\n",
       "      <td>0.248269</td>\n",
       "      <td>-0.994065</td>\n",
       "      <td>0.000406</td>\n",
       "      <td>-1.166355</td>\n",
       "      <td>-0.734221</td>\n",
       "      <td>-1.517628</td>\n",
       "      <td>1.228703</td>\n",
       "      <td>-1.174994</td>\n",
       "      <td>1.179153</td>\n",
       "      <td>0.783957</td>\n",
       "    </tr>\n",
       "  </tbody>\n",
       "</table>\n",
       "<p>8000 rows × 12 columns</p>\n",
       "</div>"
      ],
      "text/plain": [
       "          tau1      tau2      tau3      tau4        p1        p2        p3  \\\n",
       "2694  0.366829 -0.987306  0.647135  1.541166 -0.381576  0.058010  1.297355   \n",
       "5140 -0.065424  0.087606  1.030365 -1.636848  0.812027 -0.070658 -1.506156   \n",
       "2568 -1.469483  1.295950 -0.501646  1.161001 -0.236239  0.486738  0.684583   \n",
       "3671  0.819863  0.527857  1.293979 -1.139053 -1.064407 -0.766503  1.525620   \n",
       "7427  0.665110 -1.426660  0.310221  0.914944 -2.114056  0.756237  1.425821   \n",
       "...        ...       ...       ...       ...       ...       ...       ...   \n",
       "2895  1.551548  0.005620 -1.174290  1.012368 -0.519994  0.755743 -0.638100   \n",
       "7813  1.015828 -0.225150 -1.484895 -1.474993  0.591477 -0.734891  0.993118   \n",
       "905   0.657290 -0.724160 -1.401705 -0.274374 -0.016292  1.434079 -0.364759   \n",
       "5192 -0.060078 -1.261653 -1.007730 -0.875798 -1.021075  0.824691  0.518548   \n",
       "235  -1.474850  0.636317  0.248269 -0.994065  0.000406 -1.166355 -0.734221   \n",
       "\n",
       "            p4        g1        g2        g3        g4  \n",
       "2694 -0.847041  0.157604  0.340586  0.586122  0.492587  \n",
       "5140  0.489346 -0.297128 -1.559781  1.429232 -1.443061  \n",
       "2568 -0.857305  1.397865  1.453443 -1.043314  0.492837  \n",
       "3671  0.662121 -0.963287  1.363773  1.603523  0.275663  \n",
       "7427  0.642515  1.675819  0.696765  1.137423 -1.312122  \n",
       "...        ...       ...       ...       ...       ...  \n",
       "2895  0.575741 -1.214751  0.314675 -1.622632 -0.636988  \n",
       "7813 -1.050832 -1.099815 -0.755649  0.735203 -0.304039  \n",
       "905  -1.049362  1.251838  0.293777 -1.547578  0.810673  \n",
       "5192  0.020067 -0.186269 -0.388303 -0.724719  1.668195  \n",
       "235  -1.517628  1.228703 -1.174994  1.179153  0.783957  \n",
       "\n",
       "[8000 rows x 12 columns]"
      ]
     },
     "execution_count": 214,
     "metadata": {},
     "output_type": "execute_result"
    }
   ],
   "source": [
    "x_train"
   ]
  },
  {
   "cell_type": "code",
   "execution_count": 215,
   "metadata": {},
   "outputs": [
    {
     "data": {
      "text/plain": [
       "2694    unstable\n",
       "5140    unstable\n",
       "2568    unstable\n",
       "3671    unstable\n",
       "7427    unstable\n",
       "          ...   \n",
       "2895      stable\n",
       "7813      stable\n",
       "905     unstable\n",
       "5192    unstable\n",
       "235       stable\n",
       "Name: stabf, Length: 8000, dtype: object"
      ]
     },
     "execution_count": 215,
     "metadata": {},
     "output_type": "execute_result"
    }
   ],
   "source": [
    "y_train"
   ]
  },
  {
   "cell_type": "markdown",
   "metadata": {},
   "source": [
    " "
   ]
  },
  {
   "cell_type": "markdown",
   "metadata": {},
   "source": [
    " "
   ]
  },
  {
   "cell_type": "markdown",
   "metadata": {},
   "source": [
    "Label Encoding for target variables"
   ]
  },
  {
   "cell_type": "code",
   "execution_count": 222,
   "metadata": {},
   "outputs": [],
   "source": [
    "encoder = LabelEncoder()\n",
    "y_train = encoder.fit_transform(y_train)\n",
    "y_test = encoder.transform(y_test)"
   ]
  },
  {
   "cell_type": "code",
   "execution_count": 223,
   "metadata": {},
   "outputs": [
    {
     "data": {
      "text/plain": [
       "array([1, 1, 1, ..., 1, 1, 0])"
      ]
     },
     "execution_count": 223,
     "metadata": {},
     "output_type": "execute_result"
    }
   ],
   "source": [
    "y_train"
   ]
  },
  {
   "cell_type": "code",
   "execution_count": 224,
   "metadata": {},
   "outputs": [
    {
     "data": {
      "text/plain": [
       "array([1, 1, 0, ..., 0, 1, 1])"
      ]
     },
     "execution_count": 224,
     "metadata": {},
     "output_type": "execute_result"
    }
   ],
   "source": [
    "y_test"
   ]
  },
  {
   "cell_type": "markdown",
   "metadata": {},
   "source": [
    " "
   ]
  },
  {
   "cell_type": "markdown",
   "metadata": {},
   "source": [
    "- Apply SMOTE for oversmapling"
   ]
  },
  {
   "cell_type": "code",
   "execution_count": 230,
   "metadata": {},
   "outputs": [],
   "source": [
    "smote = SMOTE(random_state=1)\n",
    "x_train_balanced, y_train_balanced = smote.fit_sample(x_train, y_train)"
   ]
  },
  {
   "cell_type": "code",
   "execution_count": 231,
   "metadata": {},
   "outputs": [
    {
     "data": {
      "text/html": [
       "<div>\n",
       "<style scoped>\n",
       "    .dataframe tbody tr th:only-of-type {\n",
       "        vertical-align: middle;\n",
       "    }\n",
       "\n",
       "    .dataframe tbody tr th {\n",
       "        vertical-align: top;\n",
       "    }\n",
       "\n",
       "    .dataframe thead th {\n",
       "        text-align: right;\n",
       "    }\n",
       "</style>\n",
       "<table border=\"1\" class=\"dataframe\">\n",
       "  <thead>\n",
       "    <tr style=\"text-align: right;\">\n",
       "      <th></th>\n",
       "      <th>tau1</th>\n",
       "      <th>tau2</th>\n",
       "      <th>tau3</th>\n",
       "      <th>tau4</th>\n",
       "      <th>p1</th>\n",
       "      <th>p2</th>\n",
       "      <th>p3</th>\n",
       "      <th>p4</th>\n",
       "      <th>g1</th>\n",
       "      <th>g2</th>\n",
       "      <th>g3</th>\n",
       "      <th>g4</th>\n",
       "    </tr>\n",
       "  </thead>\n",
       "  <tbody>\n",
       "    <tr>\n",
       "      <th>0</th>\n",
       "      <td>0.366829</td>\n",
       "      <td>-0.987306</td>\n",
       "      <td>0.647135</td>\n",
       "      <td>1.541166</td>\n",
       "      <td>-0.381576</td>\n",
       "      <td>0.058010</td>\n",
       "      <td>1.297355</td>\n",
       "      <td>-0.847041</td>\n",
       "      <td>0.157604</td>\n",
       "      <td>0.340586</td>\n",
       "      <td>0.586122</td>\n",
       "      <td>0.492587</td>\n",
       "    </tr>\n",
       "    <tr>\n",
       "      <th>1</th>\n",
       "      <td>-0.065424</td>\n",
       "      <td>0.087606</td>\n",
       "      <td>1.030365</td>\n",
       "      <td>-1.636848</td>\n",
       "      <td>0.812027</td>\n",
       "      <td>-0.070658</td>\n",
       "      <td>-1.506156</td>\n",
       "      <td>0.489346</td>\n",
       "      <td>-0.297128</td>\n",
       "      <td>-1.559781</td>\n",
       "      <td>1.429232</td>\n",
       "      <td>-1.443061</td>\n",
       "    </tr>\n",
       "    <tr>\n",
       "      <th>2</th>\n",
       "      <td>-1.469483</td>\n",
       "      <td>1.295950</td>\n",
       "      <td>-0.501646</td>\n",
       "      <td>1.161001</td>\n",
       "      <td>-0.236239</td>\n",
       "      <td>0.486738</td>\n",
       "      <td>0.684583</td>\n",
       "      <td>-0.857305</td>\n",
       "      <td>1.397865</td>\n",
       "      <td>1.453443</td>\n",
       "      <td>-1.043314</td>\n",
       "      <td>0.492837</td>\n",
       "    </tr>\n",
       "    <tr>\n",
       "      <th>3</th>\n",
       "      <td>0.819863</td>\n",
       "      <td>0.527857</td>\n",
       "      <td>1.293979</td>\n",
       "      <td>-1.139053</td>\n",
       "      <td>-1.064407</td>\n",
       "      <td>-0.766503</td>\n",
       "      <td>1.525620</td>\n",
       "      <td>0.662121</td>\n",
       "      <td>-0.963287</td>\n",
       "      <td>1.363773</td>\n",
       "      <td>1.603523</td>\n",
       "      <td>0.275663</td>\n",
       "    </tr>\n",
       "    <tr>\n",
       "      <th>4</th>\n",
       "      <td>0.665110</td>\n",
       "      <td>-1.426660</td>\n",
       "      <td>0.310221</td>\n",
       "      <td>0.914944</td>\n",
       "      <td>-2.114056</td>\n",
       "      <td>0.756237</td>\n",
       "      <td>1.425821</td>\n",
       "      <td>0.642515</td>\n",
       "      <td>1.675819</td>\n",
       "      <td>0.696765</td>\n",
       "      <td>1.137423</td>\n",
       "      <td>-1.312122</td>\n",
       "    </tr>\n",
       "    <tr>\n",
       "      <th>...</th>\n",
       "      <td>...</td>\n",
       "      <td>...</td>\n",
       "      <td>...</td>\n",
       "      <td>...</td>\n",
       "      <td>...</td>\n",
       "      <td>...</td>\n",
       "      <td>...</td>\n",
       "      <td>...</td>\n",
       "      <td>...</td>\n",
       "      <td>...</td>\n",
       "      <td>...</td>\n",
       "      <td>...</td>\n",
       "    </tr>\n",
       "    <tr>\n",
       "      <th>10179</th>\n",
       "      <td>-0.756855</td>\n",
       "      <td>-1.367508</td>\n",
       "      <td>0.495724</td>\n",
       "      <td>-1.501315</td>\n",
       "      <td>-1.495543</td>\n",
       "      <td>0.604233</td>\n",
       "      <td>0.534344</td>\n",
       "      <td>0.859072</td>\n",
       "      <td>-0.773526</td>\n",
       "      <td>-0.285125</td>\n",
       "      <td>0.350134</td>\n",
       "      <td>0.997952</td>\n",
       "    </tr>\n",
       "    <tr>\n",
       "      <th>10180</th>\n",
       "      <td>-1.567517</td>\n",
       "      <td>-0.824026</td>\n",
       "      <td>1.163531</td>\n",
       "      <td>1.091242</td>\n",
       "      <td>-1.696483</td>\n",
       "      <td>1.145093</td>\n",
       "      <td>-0.080190</td>\n",
       "      <td>1.201393</td>\n",
       "      <td>1.420444</td>\n",
       "      <td>-0.561837</td>\n",
       "      <td>-0.479724</td>\n",
       "      <td>-1.280778</td>\n",
       "    </tr>\n",
       "    <tr>\n",
       "      <th>10181</th>\n",
       "      <td>-0.219280</td>\n",
       "      <td>-1.312833</td>\n",
       "      <td>-1.381733</td>\n",
       "      <td>-0.637565</td>\n",
       "      <td>0.019453</td>\n",
       "      <td>0.043777</td>\n",
       "      <td>0.623906</td>\n",
       "      <td>1.355310</td>\n",
       "      <td>0.559769</td>\n",
       "      <td>-0.800019</td>\n",
       "      <td>-0.408866</td>\n",
       "      <td>-1.511804</td>\n",
       "    </tr>\n",
       "    <tr>\n",
       "      <th>10182</th>\n",
       "      <td>-0.459639</td>\n",
       "      <td>-1.419370</td>\n",
       "      <td>-1.260608</td>\n",
       "      <td>1.314356</td>\n",
       "      <td>0.874681</td>\n",
       "      <td>0.256539</td>\n",
       "      <td>-1.514951</td>\n",
       "      <td>0.087179</td>\n",
       "      <td>-1.174324</td>\n",
       "      <td>-1.286162</td>\n",
       "      <td>-1.407035</td>\n",
       "      <td>1.414961</td>\n",
       "    </tr>\n",
       "    <tr>\n",
       "      <th>10183</th>\n",
       "      <td>-0.076180</td>\n",
       "      <td>1.128579</td>\n",
       "      <td>-1.437909</td>\n",
       "      <td>-0.760888</td>\n",
       "      <td>0.561625</td>\n",
       "      <td>-0.091257</td>\n",
       "      <td>-1.179206</td>\n",
       "      <td>0.517771</td>\n",
       "      <td>-0.643681</td>\n",
       "      <td>1.033231</td>\n",
       "      <td>0.488060</td>\n",
       "      <td>-0.758980</td>\n",
       "    </tr>\n",
       "  </tbody>\n",
       "</table>\n",
       "<p>10184 rows × 12 columns</p>\n",
       "</div>"
      ],
      "text/plain": [
       "           tau1      tau2      tau3      tau4        p1        p2        p3  \\\n",
       "0      0.366829 -0.987306  0.647135  1.541166 -0.381576  0.058010  1.297355   \n",
       "1     -0.065424  0.087606  1.030365 -1.636848  0.812027 -0.070658 -1.506156   \n",
       "2     -1.469483  1.295950 -0.501646  1.161001 -0.236239  0.486738  0.684583   \n",
       "3      0.819863  0.527857  1.293979 -1.139053 -1.064407 -0.766503  1.525620   \n",
       "4      0.665110 -1.426660  0.310221  0.914944 -2.114056  0.756237  1.425821   \n",
       "...         ...       ...       ...       ...       ...       ...       ...   \n",
       "10179 -0.756855 -1.367508  0.495724 -1.501315 -1.495543  0.604233  0.534344   \n",
       "10180 -1.567517 -0.824026  1.163531  1.091242 -1.696483  1.145093 -0.080190   \n",
       "10181 -0.219280 -1.312833 -1.381733 -0.637565  0.019453  0.043777  0.623906   \n",
       "10182 -0.459639 -1.419370 -1.260608  1.314356  0.874681  0.256539 -1.514951   \n",
       "10183 -0.076180  1.128579 -1.437909 -0.760888  0.561625 -0.091257 -1.179206   \n",
       "\n",
       "             p4        g1        g2        g3        g4  \n",
       "0     -0.847041  0.157604  0.340586  0.586122  0.492587  \n",
       "1      0.489346 -0.297128 -1.559781  1.429232 -1.443061  \n",
       "2     -0.857305  1.397865  1.453443 -1.043314  0.492837  \n",
       "3      0.662121 -0.963287  1.363773  1.603523  0.275663  \n",
       "4      0.642515  1.675819  0.696765  1.137423 -1.312122  \n",
       "...         ...       ...       ...       ...       ...  \n",
       "10179  0.859072 -0.773526 -0.285125  0.350134  0.997952  \n",
       "10180  1.201393  1.420444 -0.561837 -0.479724 -1.280778  \n",
       "10181  1.355310  0.559769 -0.800019 -0.408866 -1.511804  \n",
       "10182  0.087179 -1.174324 -1.286162 -1.407035  1.414961  \n",
       "10183  0.517771 -0.643681  1.033231  0.488060 -0.758980  \n",
       "\n",
       "[10184 rows x 12 columns]"
      ]
     },
     "execution_count": 231,
     "metadata": {},
     "output_type": "execute_result"
    }
   ],
   "source": [
    "x_train_balanced"
   ]
  },
  {
   "cell_type": "code",
   "execution_count": 233,
   "metadata": {},
   "outputs": [
    {
     "data": {
      "text/plain": [
       "array([1, 1, 1, ..., 0, 0, 0])"
      ]
     },
     "execution_count": 233,
     "metadata": {},
     "output_type": "execute_result"
    }
   ],
   "source": [
    "y_train_balanced"
   ]
  },
  {
   "cell_type": "markdown",
   "metadata": {},
   "source": [
    "confirm smote"
   ]
  },
  {
   "cell_type": "code",
   "execution_count": 234,
   "metadata": {},
   "outputs": [
    {
     "data": {
      "text/plain": [
       "1    5092\n",
       "0    5092\n",
       "dtype: int64"
      ]
     },
     "execution_count": 234,
     "metadata": {},
     "output_type": "execute_result"
    }
   ],
   "source": [
    "pd.Series(y_train_balanced).value_counts()"
   ]
  },
  {
   "cell_type": "markdown",
   "metadata": {},
   "source": [
    "> We now have a balanced  data"
   ]
  },
  {
   "cell_type": "markdown",
   "metadata": {},
   "source": [
    "> Fitting Algorithms"
   ]
  },
  {
   "cell_type": "markdown",
   "metadata": {},
   "source": [
    "> Logistic Regression"
   ]
  },
  {
   "cell_type": "code",
   "execution_count": 235,
   "metadata": {},
   "outputs": [
    {
     "data": {
      "text/plain": [
       "LogisticRegression()"
      ]
     },
     "execution_count": 235,
     "metadata": {},
     "output_type": "execute_result"
    }
   ],
   "source": [
    "log_reg = LogisticRegression()\n",
    "log_reg.fit(x_train_balanced, y_train_balanced)"
   ]
  },
  {
   "cell_type": "code",
   "execution_count": 236,
   "metadata": {},
   "outputs": [
    {
     "data": {
      "text/plain": [
       "LogisticRegression()"
      ]
     },
     "execution_count": 236,
     "metadata": {},
     "output_type": "execute_result"
    }
   ],
   "source": [
    "log_reg.fit(x_train_balanced, y_train_balanced)"
   ]
  },
  {
   "cell_type": "code",
   "execution_count": 238,
   "metadata": {},
   "outputs": [
    {
     "data": {
      "text/plain": [
       "array([[ 0.9155488 ,  0.94712236,  0.95343761,  0.98981699,  0.03286829,\n",
       "         0.06474535,  0.03463266, -0.03621313,  0.78290576,  0.85164905,\n",
       "         0.90142715,  0.80338027]])"
      ]
     },
     "execution_count": 238,
     "metadata": {},
     "output_type": "execute_result"
    }
   ],
   "source": [
    "log_reg.coef_"
   ]
  },
  {
   "cell_type": "code",
   "execution_count": 239,
   "metadata": {},
   "outputs": [],
   "source": [
    "predictions = log_reg.predict(x_test)"
   ]
  },
  {
   "cell_type": "code",
   "execution_count": 240,
   "metadata": {},
   "outputs": [
    {
     "data": {
      "text/plain": [
       "array([1, 1, 0, ..., 0, 0, 1])"
      ]
     },
     "execution_count": 240,
     "metadata": {},
     "output_type": "execute_result"
    }
   ],
   "source": [
    "predictions"
   ]
  },
  {
   "cell_type": "markdown",
   "metadata": {},
   "source": [
    "Measure Performance"
   ]
  },
  {
   "cell_type": "markdown",
   "metadata": {},
   "source": [
    "- Accuracy"
   ]
  },
  {
   "cell_type": "code",
   "execution_count": 241,
   "metadata": {},
   "outputs": [
    {
     "name": "stdout",
     "output_type": "stream",
     "text": [
      "0.785\n"
     ]
    }
   ],
   "source": [
    "score = log_reg.score(x_test, y_test)\n",
    "print(score)"
   ]
  },
  {
   "cell_type": "code",
   "execution_count": 242,
   "metadata": {},
   "outputs": [
    {
     "data": {
      "text/plain": [
       "0.785"
      ]
     },
     "execution_count": 242,
     "metadata": {},
     "output_type": "execute_result"
    }
   ],
   "source": [
    "accuracy_score(y_true=y_test, y_pred=predictions)"
   ]
  },
  {
   "cell_type": "code",
   "execution_count": 243,
   "metadata": {},
   "outputs": [
    {
     "data": {
      "text/plain": [
       "array([[ 553,  159],\n",
       "       [ 271, 1017]])"
      ]
     },
     "execution_count": 243,
     "metadata": {},
     "output_type": "execute_result"
    }
   ],
   "source": [
    "confusion_matrix(y_true=y_test, y_pred=predictions)"
   ]
  },
  {
   "cell_type": "code",
   "execution_count": 244,
   "metadata": {},
   "outputs": [
    {
     "data": {
      "text/plain": [
       "0.8647959183673469"
      ]
     },
     "execution_count": 244,
     "metadata": {},
     "output_type": "execute_result"
    }
   ],
   "source": [
    "precision_score(y_true=y_test, y_pred=predictions)"
   ]
  },
  {
   "cell_type": "markdown",
   "metadata": {},
   "source": [
    "> Decision Tree Classifier"
   ]
  },
  {
   "cell_type": "code",
   "execution_count": 257,
   "metadata": {},
   "outputs": [],
   "source": [
    "dec_tree = DecisionTreeClassifier()\n",
    "x = dec_tree.fit(x_train_balanced, y_train_balanced)"
   ]
  },
  {
   "cell_type": "code",
   "execution_count": 260,
   "metadata": {},
   "outputs": [
    {
     "data": {
      "text/plain": [
       "0.8465"
      ]
     },
     "execution_count": 260,
     "metadata": {},
     "output_type": "execute_result"
    }
   ],
   "source": [
    "x.score(x_test, y_test)"
   ]
  },
  {
   "cell_type": "code",
   "execution_count": 256,
   "metadata": {},
   "outputs": [
    {
     "data": {
      "text/plain": [
       "0.785"
      ]
     },
     "execution_count": 256,
     "metadata": {},
     "output_type": "execute_result"
    }
   ],
   "source": [
    "accuracy_score(y_true=y_test, y_pred=predictions)"
   ]
  },
  {
   "cell_type": "markdown",
   "metadata": {},
   "source": [
    "> Randomised Search CV"
   ]
  },
  {
   "cell_type": "code",
   "execution_count": null,
   "metadata": {},
   "outputs": [],
   "source": []
  },
  {
   "cell_type": "code",
   "execution_count": null,
   "metadata": {},
   "outputs": [],
   "source": []
  },
  {
   "cell_type": "markdown",
   "metadata": {},
   "source": [
    " "
   ]
  },
  {
   "cell_type": "markdown",
   "metadata": {},
   "source": [
    "RandomForest"
   ]
  },
  {
   "cell_type": "code",
   "execution_count": 251,
   "metadata": {},
   "outputs": [],
   "source": [
    "clf=RandomForestClassifier(n_estimators=100)\n",
    "clf.fit(x_train,y_train)\n",
    "y_pred=clf.predict(x_test) "
   ]
  },
  {
   "cell_type": "code",
   "execution_count": 252,
   "metadata": {},
   "outputs": [
    {
     "data": {
      "text/plain": [
       "0.785"
      ]
     },
     "execution_count": 252,
     "metadata": {},
     "output_type": "execute_result"
    }
   ],
   "source": [
    "accuracy_score(y_true=y_test, y_pred=predictions)"
   ]
  },
  {
   "cell_type": "code",
   "execution_count": null,
   "metadata": {},
   "outputs": [],
   "source": []
  },
  {
   "cell_type": "code",
   "execution_count": null,
   "metadata": {},
   "outputs": [],
   "source": []
  },
  {
   "cell_type": "markdown",
   "metadata": {},
   "source": [
    "> xGbOOST"
   ]
  },
  {
   "cell_type": "code",
   "execution_count": null,
   "metadata": {},
   "outputs": [],
   "source": []
  },
  {
   "cell_type": "code",
   "execution_count": null,
   "metadata": {},
   "outputs": [],
   "source": []
  },
  {
   "cell_type": "code",
   "execution_count": null,
   "metadata": {},
   "outputs": [],
   "source": []
  },
  {
   "cell_type": "code",
   "execution_count": null,
   "metadata": {},
   "outputs": [],
   "source": []
  },
  {
   "cell_type": "code",
   "execution_count": null,
   "metadata": {},
   "outputs": [],
   "source": []
  },
  {
   "cell_type": "markdown",
   "metadata": {},
   "source": [
    "> install the imblearn package t0 do the sampling"
   ]
  },
  {
   "cell_type": "code",
   "execution_count": 147,
   "metadata": {},
   "outputs": [
    {
     "name": "stdout",
     "output_type": "stream",
     "text": [
      "Defaulting to user installation because normal site-packages is not writeable\n",
      "Collecting imblearn\n",
      "  Downloading imblearn-0.0-py2.py3-none-any.whl (1.9 kB)\n",
      "Collecting imbalanced-learn\n",
      "  Downloading imbalanced_learn-0.7.0-py3-none-any.whl (167 kB)\n",
      "\u001b[K     |████████████████████████████████| 167 kB 108 kB/s eta 0:00:01\n",
      "\u001b[?25hRequirement already satisfied: scikit-learn>=0.23 in /home/patrick/.local/lib/python3.6/site-packages (from imbalanced-learn->imblearn) (0.23.1)\n",
      "Requirement already satisfied: scipy>=0.19.1 in /home/patrick/.local/lib/python3.6/site-packages (from imbalanced-learn->imblearn) (1.4.1)\n",
      "Requirement already satisfied: numpy>=1.13.3 in /home/patrick/.local/lib/python3.6/site-packages (from imbalanced-learn->imblearn) (1.18.1)\n",
      "Requirement already satisfied: joblib>=0.11 in /home/patrick/.local/lib/python3.6/site-packages (from imbalanced-learn->imblearn) (0.15.1)\n",
      "Requirement already satisfied: threadpoolctl>=2.0.0 in /home/patrick/.local/lib/python3.6/site-packages (from scikit-learn>=0.23->imbalanced-learn->imblearn) (2.1.0)\n",
      "Installing collected packages: imbalanced-learn, imblearn\n",
      "Successfully installed imbalanced-learn-0.7.0 imblearn-0.0\n"
     ]
    }
   ],
   "source": [
    "!pip install imblearn"
   ]
  },
  {
   "cell_type": "code",
   "execution_count": null,
   "metadata": {},
   "outputs": [],
   "source": []
  }
 ],
 "metadata": {
  "kernelspec": {
   "display_name": "Python 3",
   "language": "python",
   "name": "python3"
  },
  "language_info": {
   "codemirror_mode": {
    "name": "ipython",
    "version": 3
   },
   "file_extension": ".py",
   "mimetype": "text/x-python",
   "name": "python",
   "nbconvert_exporter": "python",
   "pygments_lexer": "ipython3",
   "version": "3.6.9"
  }
 },
 "nbformat": 4,
 "nbformat_minor": 4
}
